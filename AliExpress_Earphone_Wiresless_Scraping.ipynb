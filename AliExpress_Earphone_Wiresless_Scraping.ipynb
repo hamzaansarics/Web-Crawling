{
 "cells": [
  {
   "cell_type": "code",
   "execution_count": 13,
   "metadata": {},
   "outputs": [],
   "source": [
    "import urllib \n",
    "import numpy as np\n",
    "import pandas as pd\n",
    "from bs4 import BeautifulSoup"
   ]
  },
  {
   "cell_type": "code",
   "execution_count": 14,
   "metadata": {},
   "outputs": [],
   "source": [
    "n='web'\n",
    "pagination=[x for x in range(1,61)]"
   ]
  },
  {
   "cell_type": "code",
   "execution_count": 24,
   "metadata": {},
   "outputs": [],
   "source": [
    "names,prices=[],[]\n",
    "s=0\n",
    "for p in pagination:\n",
    "    page=open(f'C:\\\\Users\\\\Programmer\\\\Desktop\\\\New\\\\web - Copy ({p}).txt',encoding='latin').read()\n",
    "    soup=BeautifulSoup(page,'html.parser')\n",
    "    for values in soup.findAll('div',{'class':'gallery-wrap product-list'}):\n",
    "        for val in values.findAll('div',{'class':'item-title-wrap'}):\n",
    "            names.append(val.get('href'))\n",
    "#             print(p)\n"
   ]
  },
  {
   "cell_type": "code",
   "execution_count": 3,
   "metadata": {},
   "outputs": [
    {
     "ename": "NameError",
     "evalue": "name 'prices' is not defined",
     "output_type": "error",
     "traceback": [
      "\u001b[1;31m---------------------------------------------------------------------------\u001b[0m",
      "\u001b[1;31mNameError\u001b[0m                                 Traceback (most recent call last)",
      "\u001b[1;32m<ipython-input-3-2258b13a997a>\u001b[0m in \u001b[0;36m<module>\u001b[1;34m\u001b[0m\n\u001b[0;32m      3\u001b[0m \u001b[1;32mfor\u001b[0m \u001b[0mvalues\u001b[0m \u001b[1;32min\u001b[0m \u001b[0msoup\u001b[0m\u001b[1;33m.\u001b[0m\u001b[0mfindAll\u001b[0m\u001b[1;33m(\u001b[0m\u001b[1;34m'div'\u001b[0m\u001b[1;33m,\u001b[0m\u001b[1;33m{\u001b[0m\u001b[1;34m'class'\u001b[0m\u001b[1;33m:\u001b[0m\u001b[1;34m'gallery-wrap product-list'\u001b[0m\u001b[1;33m}\u001b[0m\u001b[1;33m)\u001b[0m\u001b[1;33m:\u001b[0m\u001b[1;33m\u001b[0m\u001b[1;33m\u001b[0m\u001b[0m\n\u001b[0;32m      4\u001b[0m     \u001b[1;32mfor\u001b[0m \u001b[0mval\u001b[0m \u001b[1;32min\u001b[0m \u001b[0mvalues\u001b[0m\u001b[1;33m.\u001b[0m\u001b[0mfindAll\u001b[0m\u001b[1;33m(\u001b[0m\u001b[1;34m'span'\u001b[0m\u001b[1;33m,\u001b[0m\u001b[1;33m{\u001b[0m\u001b[1;34m'class'\u001b[0m\u001b[1;33m:\u001b[0m\u001b[1;34m'price-current'\u001b[0m\u001b[1;33m}\u001b[0m\u001b[1;33m)\u001b[0m\u001b[1;33m:\u001b[0m\u001b[1;33m\u001b[0m\u001b[1;33m\u001b[0m\u001b[0m\n\u001b[1;32m----> 5\u001b[1;33m         \u001b[0mprices\u001b[0m\u001b[1;33m.\u001b[0m\u001b[0mappend\u001b[0m\u001b[1;33m(\u001b[0m\u001b[0mval\u001b[0m\u001b[1;33m.\u001b[0m\u001b[0mtext\u001b[0m\u001b[1;33m)\u001b[0m\u001b[1;33m\u001b[0m\u001b[1;33m\u001b[0m\u001b[0m\n\u001b[0m",
      "\u001b[1;31mNameError\u001b[0m: name 'prices' is not defined"
     ]
    }
   ],
   "source": [
    "page=open(f'C:\\\\Users\\\\Programmer\\\\Documents\\\\web1.txt',encoding='utf8').read()\n",
    "soup=BeautifulSoup(page,'html.parser')\n",
    "for values in soup.findAll('div',{'class':'gallery-wrap product-list'}):\n",
    "    for val in values.findAll('span',{'class':'price-current'}):\n",
    "        prices.append(val.text)"
   ]
  },
  {
   "cell_type": "code",
   "execution_count": 25,
   "metadata": {},
   "outputs": [
    {
     "data": {
      "text/plain": [
       "1335"
      ]
     },
     "execution_count": 25,
     "metadata": {},
     "output_type": "execute_result"
    }
   ],
   "source": [
    "len(names)"
   ]
  },
  {
   "cell_type": "code",
   "execution_count": null,
   "metadata": {},
   "outputs": [],
   "source": []
  },
  {
   "cell_type": "code",
   "execution_count": 7,
   "metadata": {},
   "outputs": [],
   "source": [
    "new_price=[]\n",
    "for pr in prices:\n",
    "    new_price.append(float((pr.split('$')[1].split('-')[0]).replace(',','')))"
   ]
  },
  {
   "cell_type": "code",
   "execution_count": 8,
   "metadata": {},
   "outputs": [],
   "source": [
    "arr1=np.array(new_price,np.float64)*154.66"
   ]
  },
  {
   "cell_type": "code",
   "execution_count": 9,
   "metadata": {},
   "outputs": [],
   "source": [
    "aliexp_wireless_earphone=pd.DataFrame({'Name':names,'Price':arr1})"
   ]
  },
  {
   "cell_type": "code",
   "execution_count": 10,
   "metadata": {},
   "outputs": [
    {
     "data": {
      "text/html": [
       "<div>\n",
       "<style scoped>\n",
       "    .dataframe tbody tr th:only-of-type {\n",
       "        vertical-align: middle;\n",
       "    }\n",
       "\n",
       "    .dataframe tbody tr th {\n",
       "        vertical-align: top;\n",
       "    }\n",
       "\n",
       "    .dataframe thead th {\n",
       "        text-align: right;\n",
       "    }\n",
       "</style>\n",
       "<table border=\"1\" class=\"dataframe\">\n",
       "  <thead>\n",
       "    <tr style=\"text-align: right;\">\n",
       "      <th></th>\n",
       "      <th>Name</th>\n",
       "      <th>Price</th>\n",
       "    </tr>\n",
       "  </thead>\n",
       "  <tbody>\n",
       "    <tr>\n",
       "      <th>0</th>\n",
       "      <td>Fineblue Earphone Collar Bluetooth-Headset Tel...</td>\n",
       "      <td>2451.3610</td>\n",
       "    </tr>\n",
       "    <tr>\n",
       "      <th>1</th>\n",
       "      <td>Wireless Bluetooth Earphone Headset Led-Displa...</td>\n",
       "      <td>1606.9174</td>\n",
       "    </tr>\n",
       "    <tr>\n",
       "      <th>2</th>\n",
       "      <td>Anker Wireless Earphones Isolation Sweatproof ...</td>\n",
       "      <td>5241.4274</td>\n",
       "    </tr>\n",
       "    <tr>\n",
       "      <th>3</th>\n",
       "      <td>Anker Wireless Earbuds Drivers Bluetooth-Earph...</td>\n",
       "      <td>13704.4226</td>\n",
       "    </tr>\n",
       "    <tr>\n",
       "      <th>4</th>\n",
       "      <td>SOUNDPEATS Wireless Earbuds Driver Over-Ear-Ho...</td>\n",
       "      <td>4898.0822</td>\n",
       "    </tr>\n",
       "    <tr>\n",
       "      <th>...</th>\n",
       "      <td>...</td>\n",
       "      <td>...</td>\n",
       "    </tr>\n",
       "    <tr>\n",
       "      <th>2926</th>\n",
       "      <td>Wireless Bluetooth Earphone 1536u I30000 Air-P...</td>\n",
       "      <td>5628.0774</td>\n",
       "    </tr>\n",
       "    <tr>\n",
       "      <th>2927</th>\n",
       "      <td>Xiaomi Handsfree Earbuds Tap-Control Noise-Red...</td>\n",
       "      <td>2734.3888</td>\n",
       "    </tr>\n",
       "    <tr>\n",
       "      <th>2928</th>\n",
       "      <td>Whizzer Earphone Waterproof Blutooth Ear-Sport...</td>\n",
       "      <td>9124.9400</td>\n",
       "    </tr>\n",
       "    <tr>\n",
       "      <th>2929</th>\n",
       "      <td>Remax Earphone Stereo Tws Bluetooth Mini Wirel...</td>\n",
       "      <td>2841.1042</td>\n",
       "    </tr>\n",
       "    <tr>\n",
       "      <th>2930</th>\n",
       "      <td>Bluetooth Earphones Air-Dots Xiaomi Redmi Sams...</td>\n",
       "      <td>3399.4268</td>\n",
       "    </tr>\n",
       "  </tbody>\n",
       "</table>\n",
       "<p>2931 rows × 2 columns</p>\n",
       "</div>"
      ],
      "text/plain": [
       "                                                   Name       Price\n",
       "0     Fineblue Earphone Collar Bluetooth-Headset Tel...   2451.3610\n",
       "1     Wireless Bluetooth Earphone Headset Led-Displa...   1606.9174\n",
       "2     Anker Wireless Earphones Isolation Sweatproof ...   5241.4274\n",
       "3     Anker Wireless Earbuds Drivers Bluetooth-Earph...  13704.4226\n",
       "4     SOUNDPEATS Wireless Earbuds Driver Over-Ear-Ho...   4898.0822\n",
       "...                                                 ...         ...\n",
       "2926  Wireless Bluetooth Earphone 1536u I30000 Air-P...   5628.0774\n",
       "2927  Xiaomi Handsfree Earbuds Tap-Control Noise-Red...   2734.3888\n",
       "2928  Whizzer Earphone Waterproof Blutooth Ear-Sport...   9124.9400\n",
       "2929  Remax Earphone Stereo Tws Bluetooth Mini Wirel...   2841.1042\n",
       "2930  Bluetooth Earphones Air-Dots Xiaomi Redmi Sams...   3399.4268\n",
       "\n",
       "[2931 rows x 2 columns]"
      ]
     },
     "execution_count": 10,
     "metadata": {},
     "output_type": "execute_result"
    }
   ],
   "source": [
    "aliexp_wireless_earphone"
   ]
  },
  {
   "cell_type": "code",
   "execution_count": 11,
   "metadata": {},
   "outputs": [],
   "source": [
    "aliexp_wireless_earphone.to_csv('E:\\\\nice.csv')"
   ]
  },
  {
   "cell_type": "code",
   "execution_count": null,
   "metadata": {},
   "outputs": [],
   "source": []
  },
  {
   "cell_type": "code",
   "execution_count": 8,
   "metadata": {},
   "outputs": [
    {
     "data": {
      "text/plain": [
       "59"
      ]
     },
     "execution_count": 8,
     "metadata": {},
     "output_type": "execute_result"
    }
   ],
   "source": [
    "len(set(names))"
   ]
  },
  {
   "cell_type": "code",
   "execution_count": null,
   "metadata": {},
   "outputs": [],
   "source": []
  }
 ],
 "metadata": {
  "kernelspec": {
   "display_name": "Python 3",
   "language": "python",
   "name": "python3"
  },
  "language_info": {
   "codemirror_mode": {
    "name": "ipython",
    "version": 3
   },
   "file_extension": ".py",
   "mimetype": "text/x-python",
   "name": "python",
   "nbconvert_exporter": "python",
   "pygments_lexer": "ipython3",
   "version": "3.7.3"
  }
 },
 "nbformat": 4,
 "nbformat_minor": 2
}
