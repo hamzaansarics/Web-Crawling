{
 "cells": [
  {
   "cell_type": "code",
   "execution_count": 1,
   "metadata": {},
   "outputs": [],
   "source": [
    "import urllib \n",
    "import numpy as np\n",
    "import pandas as pd\n",
    "from bs4 import BeautifulSoup"
   ]
  },
  {
   "cell_type": "code",
   "execution_count": 11,
   "metadata": {},
   "outputs": [],
   "source": [
    "n='web'\n",
    "pagination=[x for x in range(13,61)]"
   ]
  },
  {
   "cell_type": "code",
   "execution_count": 12,
   "metadata": {},
   "outputs": [],
   "source": [
    "names,prices=[],[]"
   ]
  },
  {
   "cell_type": "code",
   "execution_count": 13,
   "metadata": {},
   "outputs": [],
   "source": [
    "for val in pagination:\n",
    "    page=open(f'C:\\\\Users\\\\Programmer\\\\Desktop\\\\New folder\\\\web - Copy ({val}).txt',encoding='utf8').read()\n",
    "    soup=BeautifulSoup(page,'html.parser')\n",
    "    for values in soup.findAll('div',{'class':'gallery-wrap product-list'}):\n",
    "        for val in values.findAll('div',{'class':'item-title-wrap'}):\n",
    "            names.append(val.text)"
   ]
  },
  {
   "cell_type": "code",
   "execution_count": 17,
   "metadata": {},
   "outputs": [
    {
     "data": {
      "text/plain": [
       "59"
      ]
     },
     "execution_count": 17,
     "metadata": {},
     "output_type": "execute_result"
    }
   ],
   "source": [
    "len(set(names))"
   ]
  },
  {
   "cell_type": "code",
   "execution_count": 7,
   "metadata": {},
   "outputs": [],
   "source": [
    "for val in pagination:\n",
    "    page=open(f'E:\\Ali Express Headphones\\{val}.txt',encoding='utf8').read()\n",
    "    soup=BeautifulSoup(page,'html.parser')\n",
    "    for values in soup.findAll('div',{'class':'gallery-wrap product-list'}):\n",
    "        for val in values.findAll('span',{'class':'price-current'}):\n",
    "            prices.append(val.text)"
   ]
  },
  {
   "cell_type": "code",
   "execution_count": 8,
   "metadata": {},
   "outputs": [
    {
     "data": {
      "text/plain": [
       "3228"
      ]
     },
     "execution_count": 8,
     "metadata": {},
     "output_type": "execute_result"
    }
   ],
   "source": [
    "len(prices)"
   ]
  },
  {
   "cell_type": "code",
   "execution_count": 9,
   "metadata": {},
   "outputs": [],
   "source": [
    "prices\n",
    "new_prices=[]\n",
    "for pr in prices:\n",
    "    new_prices.append(float((pr.split('$')[1].split('-')[0]).replace(',','')))"
   ]
  },
  {
   "cell_type": "code",
   "execution_count": 11,
   "metadata": {},
   "outputs": [],
   "source": [
    "pri=np.array(new_prices,dtype=np.float64)"
   ]
  },
  {
   "cell_type": "code",
   "execution_count": 12,
   "metadata": {},
   "outputs": [],
   "source": [
    "pri=pri*154.66"
   ]
  },
  {
   "cell_type": "code",
   "execution_count": 13,
   "metadata": {},
   "outputs": [],
   "source": [
    "aliexp_headphones=pd.DataFrame({'Name':names,'Price':pri})"
   ]
  },
  {
   "cell_type": "code",
   "execution_count": 14,
   "metadata": {},
   "outputs": [
    {
     "data": {
      "text/html": [
       "<div>\n",
       "<style scoped>\n",
       "    .dataframe tbody tr th:only-of-type {\n",
       "        vertical-align: middle;\n",
       "    }\n",
       "\n",
       "    .dataframe tbody tr th {\n",
       "        vertical-align: top;\n",
       "    }\n",
       "\n",
       "    .dataframe thead th {\n",
       "        text-align: right;\n",
       "    }\n",
       "</style>\n",
       "<table border=\"1\" class=\"dataframe\">\n",
       "  <thead>\n",
       "    <tr style=\"text-align: right;\">\n",
       "      <th></th>\n",
       "      <th>Name</th>\n",
       "      <th>Price</th>\n",
       "    </tr>\n",
       "  </thead>\n",
       "  <tbody>\n",
       "    <tr>\n",
       "      <th>0</th>\n",
       "      <td>New Bee Bluetooth Headset Bluetooth 5.0 Earpie...</td>\n",
       "      <td>1545.0534</td>\n",
       "    </tr>\n",
       "    <tr>\n",
       "      <th>1</th>\n",
       "      <td>Hot Sale I7s TWS Bluetooth Earphone Stereo Ear...</td>\n",
       "      <td>247.4560</td>\n",
       "    </tr>\n",
       "    <tr>\n",
       "      <th>2</th>\n",
       "      <td>5.0 Bluetooth Earphone Sport Headphones Wirele...</td>\n",
       "      <td>1206.3480</td>\n",
       "    </tr>\n",
       "    <tr>\n",
       "      <th>3</th>\n",
       "      <td>Simvict Professional Earphone Super Bass Heads...</td>\n",
       "      <td>214.9774</td>\n",
       "    </tr>\n",
       "    <tr>\n",
       "      <th>4</th>\n",
       "      <td>Langsdom M400 Headphones Earphones in Ear Spor...</td>\n",
       "      <td>712.9826</td>\n",
       "    </tr>\n",
       "    <tr>\n",
       "      <th>...</th>\n",
       "      <td>...</td>\n",
       "      <td>...</td>\n",
       "    </tr>\n",
       "    <tr>\n",
       "      <th>3223</th>\n",
       "      <td>Flashing-Light Silent Disco Professional Headp...</td>\n",
       "      <td>5597.1454</td>\n",
       "    </tr>\n",
       "    <tr>\n",
       "      <th>3224</th>\n",
       "      <td>Logitech Headphones Astro Wired Xbox for PS LO...</td>\n",
       "      <td>10837.0262</td>\n",
       "    </tr>\n",
       "    <tr>\n",
       "      <th>3225</th>\n",
       "      <td>JBL Headphone Jbl-T500 Pure-Bass Sports-Game W...</td>\n",
       "      <td>7634.0176</td>\n",
       "    </tr>\n",
       "    <tr>\n",
       "      <th>3226</th>\n",
       "      <td>Edifier Earphone Ii-Gaming-Headset Surround-So...</td>\n",
       "      <td>6365.8056</td>\n",
       "    </tr>\n",
       "    <tr>\n",
       "      <th>3227</th>\n",
       "      <td>3.5mm In-Ear Wired Stereo Earphone headset Rem...</td>\n",
       "      <td>58.7708</td>\n",
       "    </tr>\n",
       "  </tbody>\n",
       "</table>\n",
       "<p>3228 rows × 2 columns</p>\n",
       "</div>"
      ],
      "text/plain": [
       "                                                   Name       Price\n",
       "0     New Bee Bluetooth Headset Bluetooth 5.0 Earpie...   1545.0534\n",
       "1     Hot Sale I7s TWS Bluetooth Earphone Stereo Ear...    247.4560\n",
       "2     5.0 Bluetooth Earphone Sport Headphones Wirele...   1206.3480\n",
       "3     Simvict Professional Earphone Super Bass Heads...    214.9774\n",
       "4     Langsdom M400 Headphones Earphones in Ear Spor...    712.9826\n",
       "...                                                 ...         ...\n",
       "3223  Flashing-Light Silent Disco Professional Headp...   5597.1454\n",
       "3224  Logitech Headphones Astro Wired Xbox for PS LO...  10837.0262\n",
       "3225  JBL Headphone Jbl-T500 Pure-Bass Sports-Game W...   7634.0176\n",
       "3226  Edifier Earphone Ii-Gaming-Headset Surround-So...   6365.8056\n",
       "3227  3.5mm In-Ear Wired Stereo Earphone headset Rem...     58.7708\n",
       "\n",
       "[3228 rows x 2 columns]"
      ]
     },
     "execution_count": 14,
     "metadata": {},
     "output_type": "execute_result"
    }
   ],
   "source": [
    "aliexp_headphones"
   ]
  },
  {
   "cell_type": "code",
   "execution_count": 15,
   "metadata": {},
   "outputs": [],
   "source": [
    "aliexp_headphones.to_csv('E:\\\\aliexp_headphones.csv')"
   ]
  },
  {
   "cell_type": "code",
   "execution_count": null,
   "metadata": {},
   "outputs": [],
   "source": []
  },
  {
   "cell_type": "code",
   "execution_count": null,
   "metadata": {},
   "outputs": [],
   "source": []
  }
 ],
 "metadata": {
  "kernelspec": {
   "display_name": "Python 3",
   "language": "python",
   "name": "python3"
  },
  "language_info": {
   "codemirror_mode": {
    "name": "ipython",
    "version": 3
   },
   "file_extension": ".py",
   "mimetype": "text/x-python",
   "name": "python",
   "nbconvert_exporter": "python",
   "pygments_lexer": "ipython3",
   "version": "3.7.3"
  }
 },
 "nbformat": 4,
 "nbformat_minor": 2
}
