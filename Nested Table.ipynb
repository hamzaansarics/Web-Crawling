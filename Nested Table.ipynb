{
 "cells": [
  {
   "cell_type": "code",
   "execution_count": 23,
   "metadata": {},
   "outputs": [],
   "source": [
    "import regex as re\n",
    "import numpy as np\n",
    "import pandas as pd\n",
    "from selenium import webdriver\n",
    "from bs4 import BeautifulSoup\n",
    "from selenium.webdriver.chrome.options import Options"
   ]
  },
  {
   "cell_type": "code",
   "execution_count": 13,
   "metadata": {},
   "outputs": [],
   "source": [
    "chrome_options = Options()\n",
    "chrome_options.add_argument(\"--headless\")\n",
    "chrome_options.add_argument(\"--window-size=1920x1080\")\n",
    "\n",
    "chrome_driver = \"F:\\Web-Crawling-main\\chromedriver.exe\""
   ]
  },
  {
   "cell_type": "code",
   "execution_count": 14,
   "metadata": {},
   "outputs": [
    {
     "name": "stderr",
     "output_type": "stream",
     "text": [
      "<ipython-input-14-d7cbfac7c0bc>:1: DeprecationWarning: use options instead of chrome_options\n",
      "  driver = webdriver.Chrome(executable_path=chrome_driver,chrome_options=chrome_options)\n"
     ]
    }
   ],
   "source": [
    "driver = webdriver.Chrome(executable_path=chrome_driver,chrome_options=chrome_options)"
   ]
  },
  {
   "cell_type": "code",
   "execution_count": 26,
   "metadata": {},
   "outputs": [
    {
     "name": "stdout",
     "output_type": "stream",
     "text": [
      "1\n"
     ]
    }
   ],
   "source": [
    "pages=[str(x) for x in range(1,2)]\n",
    "names,prices,rating,links,total=[],[],[],[],[]\n",
    "p_c=0\n",
    "for p in pages:\n",
    "    p_c+=1\n",
    "    print(p_c)\n",
    "    api=f\"file:///C:/Users/H%20A%20M%20Z%20A/Downloads/sample.html\"\n",
    "    driver.get(api)\n",
    "    html=driver.execute_script('return document.documentElement.outerHTML')\n",
    "    data=BeautifulSoup(html,'html.parser')\n",
    "    for value in data.findAll('table',{'class':'pedigreetable'}):\n",
    "        for fval in value.findAll('tr'):\n",
    "            for val in fval.findAll('td',{'class':'m'}):\n",
    "                   names.append(val.text)\n",
    "            for val in fval.findAll('td',{'class':'f'}):\n",
    "                   names.append(val.text)\n",
    "    "
   ]
  },
  {
   "cell_type": "code",
   "execution_count": 27,
   "metadata": {},
   "outputs": [
    {
     "data": {
      "text/plain": [
       "158"
      ]
     },
     "execution_count": 27,
     "metadata": {},
     "output_type": "execute_result"
    }
   ],
   "source": [
    "len(names)"
   ]
  },
  {
   "cell_type": "code",
   "execution_count": 25,
   "metadata": {},
   "outputs": [
    {
     "data": {
      "text/plain": [
       "['PIERRO (AUS) b. 2009 (27)14-11-2-1A$4,536,650',\n",
       " 'LONHRO (AUS) br. 1998 (27)35-26-3-2A$5,790,510',\n",
       " 'OCTAGONAL (NZ) br. 1992 (69.86)28-14-7-1A$5,892,231',\n",
       " 'ZABEEL (NZ) b. 1986 (78.53)',\n",
       " 'SIR TRISTRAM (IRE)',\n",
       " ' b. 1971 ',\n",
       " '6-e',\n",
       " '',\n",
       " 'LADY GISELLE (FR)',\n",
       " ' b. 1982 ',\n",
       " '16-c',\n",
       " '',\n",
       " 'PIECES OF EIGHT (IRE)',\n",
       " ' br. 1963 ',\n",
       " '3-o',\n",
       " '',\n",
       " 'EIGHT CARAT (GB)* blk. 1975',\n",
       " 'KLAIRESSA (GB)',\n",
       " ' dkb/br. 1969 ',\n",
       " '9-c',\n",
       " '',\n",
       " 'STRAIGHT STRIKE (USA) b. 1977 (45)',\n",
       " 'MR. PROSPECTOR (USA)',\n",
       " ' b. 1970 [BC]',\n",
       " '13-c',\n",
       " '',\n",
       " 'SHADEA (NZ) br. 198820-2-4-2A$226,26612 f, 8 r, 7 w, 3 SW',\n",
       " 'BEND NOT (USA)',\n",
       " ' b. 1972 ',\n",
       " '11',\n",
       " '',\n",
       " 'FIRST CONSUL (USA)',\n",
       " ' b. 1970 ',\n",
       " '5-f',\n",
       " '',\n",
       " 'CONCIA (NZ) b. 1978',\n",
       " 'MY TRICIA (NZ)',\n",
       " ' br. 1974 ',\n",
       " '8',\n",
       " '',\n",
       " 'DAYLAMI (IRE) gr. 1994 (67.08)21-11-3-4$3,614,762',\n",
       " 'DOYOUN (IRE) br. 1985 (56.06)',\n",
       " 'MILL REEF (USA)',\n",
       " ' b. 1968 [CS]',\n",
       " '22-d',\n",
       " '',\n",
       " 'MISS RIGHT NOTE (IRE) gr. 20036-1-2-0€27.350 in Fr2 SW',\n",
       " 'DUMKA (FR)',\n",
       " ' b. 1971 *',\n",
       " '21-a',\n",
       " '',\n",
       " 'MISWAKI (USA)',\n",
       " ' ch. 1978 ',\n",
       " '16-g',\n",
       " '',\n",
       " 'DALTAWA (IRE)* gr. 1989',\n",
       " 'DAMANA (FR)',\n",
       " ' gr. 1981 ',\n",
       " '9-e',\n",
       " '',\n",
       " 'SADLERS WELLS (USA) b. 1981 [CS] (77.56)',\n",
       " 'NORTHERN DANCER (CAN)',\n",
       " ' b. 1961 [BC]',\n",
       " '2-d',\n",
       " '',\n",
       " 'SKY SONG (IRE) b. 19976-0-1-1€8,842',\n",
       " 'FAIRY BRIDGE (USA)',\n",
       " ' b. 1975 *',\n",
       " '5-h',\n",
       " '',\n",
       " 'SHIRLEY HEIGHTS (GB)',\n",
       " ' b. 1975 [CP]',\n",
       " '1-l',\n",
       " '',\n",
       " 'CRIQUETTE (GB) b. 1990',\n",
       " 'GHISLAINE (USA)',\n",
       " ' gr. 1981 ',\n",
       " '1-t',\n",
       " '',\n",
       " 'VOLKSRAAD (GB) b. 1988 (45)3-2-0-1£20,2911106 f, 966 r, 651 w, 64 SW',\n",
       " 'GREEN DESERT (USA) dkb/br. 1983 (71.68)14-5-4-1$322,9671235 f, 1031 r, 747 w, 101 SW',\n",
       " 'DANZIG (USA) b. 1977 [IC] (82.42)',\n",
       " 'NORTHERN DANCER (CAN)',\n",
       " ' b. 1961 [BC]',\n",
       " '2-d',\n",
       " '',\n",
       " 'MAPMAKER (NZ) b. 200816-2-2-2NZ$27,050',\n",
       " 'PAS DE NOM (USA)',\n",
       " ' br. 1968 ',\n",
       " '7-a',\n",
       " '',\n",
       " 'SIR IVOR (USA)',\n",
       " ' b. 1965 [IC]',\n",
       " '8-g',\n",
       " '',\n",
       " 'FOREIGN COURIER (USA) b. 1979',\n",
       " 'COURTLY DEE (USA)',\n",
       " ' dkb/br. 1968 *',\n",
       " 'A4',\n",
       " '',\n",
       " 'SECRETARIAT (USA) ch. 1970 [IC] (70.91)',\n",
       " 'BOLD RULER (USA)',\n",
       " ' dkb/br. 1954 [BI]',\n",
       " '8-d',\n",
       " '',\n",
       " 'CELTIC ASSEMBLY (USA) b. 198114-1-3-2$11,041 in GB',\n",
       " 'SOMETHINGROYAL (USA)',\n",
       " ' b. 1952 *',\n",
       " '2-s',\n",
       " '',\n",
       " 'WELSH SAINT (IRE)',\n",
       " ' b. 1966 ',\n",
       " '9-h',\n",
       " '',\n",
       " 'WELSH GARDEN (IRE) b. 1973',\n",
       " 'GARDEN OF EDEN (IRE)',\n",
       " ' b. 1967 ',\n",
       " '10-c',\n",
       " '',\n",
       " 'DANSKE (NZ) b. 1995 (27)13-4-4-1NZ$299,688',\n",
       " 'DANEHILL (USA) b. 1986 (82.41)',\n",
       " 'DANZIG (USA)',\n",
       " ' b. 1977 [IC]',\n",
       " '7-a',\n",
       " '',\n",
       " 'STRAIGHT EIGHT (NZ) b. 200019-3-2-2$30,495 (NZ)1 SW',\n",
       " 'RAZYANA (USA)',\n",
       " ' b. 1981 ',\n",
       " '2-d',\n",
       " '',\n",
       " 'SIR TRISTRAM (IRE)',\n",
       " ' b. 1971 ',\n",
       " '6-e',\n",
       " '',\n",
       " 'OUR TRISTALIGHT (NZ) gr. 1989',\n",
       " 'TUDOR LIGHT (NZ)',\n",
       " ' gr. 1972 ',\n",
       " '5-d',\n",
       " '',\n",
       " 'STRAIGHT STRIKE (USA) b. 1977 (45)',\n",
       " 'MR. PROSPECTOR (USA)',\n",
       " ' b. 1970 [BC]',\n",
       " '13-c',\n",
       " '',\n",
       " 'STRAIGHT LINE (NZ) b. 19867-5-0-0$45,1501 SW',\n",
       " 'BEND NOT (USA)',\n",
       " ' b. 1972 ',\n",
       " '11',\n",
       " '',\n",
       " 'SKY DIVER (IRE)',\n",
       " ' b. 1963 ',\n",
       " '29',\n",
       " '',\n",
       " 'LITTLE NELL (AUS) b. 1977',\n",
       " 'HANELLE (AUS)',\n",
       " ' br. 1971 ',\n",
       " '4-b',\n",
       " '']"
      ]
     },
     "execution_count": 25,
     "metadata": {},
     "output_type": "execute_result"
    }
   ],
   "source": [
    "names"
   ]
  },
  {
   "cell_type": "code",
   "execution_count": null,
   "metadata": {},
   "outputs": [],
   "source": []
  }
 ],
 "metadata": {
  "kernelspec": {
   "display_name": "Python 3",
   "language": "python",
   "name": "python3"
  },
  "language_info": {
   "codemirror_mode": {
    "name": "ipython",
    "version": 3
   },
   "file_extension": ".py",
   "mimetype": "text/x-python",
   "name": "python",
   "nbconvert_exporter": "python",
   "pygments_lexer": "ipython3",
   "version": "3.8.5"
  }
 },
 "nbformat": 4,
 "nbformat_minor": 4
}
