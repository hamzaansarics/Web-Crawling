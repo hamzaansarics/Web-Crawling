{
 "cells": [
  {
   "cell_type": "code",
   "execution_count": 1,
   "metadata": {},
   "outputs": [],
   "source": [
    "import urllib \n",
    "import numpy as np\n",
    "import pandas as pd\n",
    "from selenium import webdriver\n",
    "from bs4 import BeautifulSoup\n",
    "from selenium.webdriver.chrome.options import Options"
   ]
  },
  {
   "cell_type": "code",
   "execution_count": 2,
   "metadata": {},
   "outputs": [],
   "source": [
    "\n",
    "chrome_options = Options()\n",
    "chrome_options.add_argument(\"--headless\")\n",
    "chrome_options.add_argument(\"--window-size=1920x1080\")\n",
    "\n",
    "chrome_driver = \"I:\\Web Scraping\\chromedriver.exe\""
   ]
  },
  {
   "cell_type": "code",
   "execution_count": 3,
   "metadata": {},
   "outputs": [
    {
     "name": "stderr",
     "output_type": "stream",
     "text": [
      "C:\\Users\\Programmer\\Anaconda3\\lib\\site-packages\\ipykernel_launcher.py:1: DeprecationWarning: use options instead of chrome_options\n",
      "  \"\"\"Entry point for launching an IPython kernel.\n"
     ]
    }
   ],
   "source": [
    "driver = webdriver.Chrome(executable_path=chrome_driver,chrome_options=chrome_options)"
   ]
  },
  {
   "cell_type": "code",
   "execution_count": 12,
   "metadata": {},
   "outputs": [],
   "source": [
    "pages=[str(x) for x in range(1,17)]\n",
    "names,prices,links=[],[],[]\n",
    "rating=[]\n",
    "p_c=0\n",
    "for p in pages:\n",
    "    p_c+=1\n",
    "    print(p_c)\n",
    "    api=f\"https://www.daraz.pk/over-the-ear-headphones/?from=onesearch_category_154&page={p}&rating=4\"\n",
    "    driver.get(api)\n",
    "    html=driver.execute_script('return document.documentElement.outerHTML')\n",
    "    data=BeautifulSoup(html,'html.parser')\n",
    "    for values in data.findAll('div',{'class':'c1_t2i'}):\n",
    "        for val in values.findAll('div',{'class':'c16H9d'}):\n",
    "            names.append(val.text)\n",
    "        for pri in values.findAll('div',{'class':'c3gUW0'}):\n",
    "            prices.append(pri.text)\n",
    "        for pri in values.findAll('div',{'class':'c16H9d'}):\n",
    "            for vl in pri.findAll('a'):\n",
    "                links.append(vl.get('href'))                \n",
    "    headphone_4=pd.DataFrame({'Products Name':names,'Products Price':prices,'Links':links})\n",
    "    headphone_4.to_csv('E:\\headphone_4.csv')"
   ]
  },
  {
   "cell_type": "code",
   "execution_count": 58,
   "metadata": {},
   "outputs": [
    {
     "data": {
      "text/plain": [
       "1682"
      ]
     },
     "execution_count": 58,
     "metadata": {},
     "output_type": "execute_result"
    }
   ],
   "source": [
    "len(set(links))"
   ]
  },
  {
   "cell_type": "code",
   "execution_count": 16,
   "metadata": {},
   "outputs": [
    {
     "data": {
      "text/html": [
       "<div>\n",
       "<style scoped>\n",
       "    .dataframe tbody tr th:only-of-type {\n",
       "        vertical-align: middle;\n",
       "    }\n",
       "\n",
       "    .dataframe tbody tr th {\n",
       "        vertical-align: top;\n",
       "    }\n",
       "\n",
       "    .dataframe thead th {\n",
       "        text-align: right;\n",
       "    }\n",
       "</style>\n",
       "<table border=\"1\" class=\"dataframe\">\n",
       "  <thead>\n",
       "    <tr style=\"text-align: right;\">\n",
       "      <th></th>\n",
       "      <th>Unnamed: 0</th>\n",
       "      <th>Products Name</th>\n",
       "      <th>Products Price</th>\n",
       "      <th>Links</th>\n",
       "    </tr>\n",
       "  </thead>\n",
       "  <tbody>\n",
       "    <tr>\n",
       "      <th>0</th>\n",
       "      <td>0</td>\n",
       "      <td>Wireless by Dr Dre Heaphone Original</td>\n",
       "      <td>Rs. 35,999</td>\n",
       "      <td>//www.daraz.pk/products/wireless-by-dr-dre-hea...</td>\n",
       "    </tr>\n",
       "    <tr>\n",
       "      <th>1</th>\n",
       "      <td>1</td>\n",
       "      <td>E55BT - Wireless Bluetooth On-ear Headphones -...</td>\n",
       "      <td>Rs. 19,900</td>\n",
       "      <td>//www.daraz.pk/products/e55bt-wireless-bluetoo...</td>\n",
       "    </tr>\n",
       "    <tr>\n",
       "      <th>2</th>\n",
       "      <td>2</td>\n",
       "      <td>P47 Over The Ear Wireless Bluetooth Headphone ...</td>\n",
       "      <td>Rs. 939</td>\n",
       "      <td>//www.daraz.pk/products/p47-over-the-ear-wirel...</td>\n",
       "    </tr>\n",
       "    <tr>\n",
       "      <th>3</th>\n",
       "      <td>3</td>\n",
       "      <td>Wireless Bluetooth Headset V4.0 High Quality L...</td>\n",
       "      <td>Rs. 342</td>\n",
       "      <td>//www.daraz.pk/products/wireless-bluetooth-hea...</td>\n",
       "    </tr>\n",
       "    <tr>\n",
       "      <th>4</th>\n",
       "      <td>4</td>\n",
       "      <td>Professional Stereo P47 Wireless Bluetooth Hea...</td>\n",
       "      <td>Rs. 799</td>\n",
       "      <td>//www.daraz.pk/products/professional-stereo-p4...</td>\n",
       "    </tr>\n",
       "  </tbody>\n",
       "</table>\n",
       "</div>"
      ],
      "text/plain": [
       "   Unnamed: 0                                      Products Name  \\\n",
       "0           0               Wireless by Dr Dre Heaphone Original   \n",
       "1           1  E55BT - Wireless Bluetooth On-ear Headphones -...   \n",
       "2           2  P47 Over The Ear Wireless Bluetooth Headphone ...   \n",
       "3           3  Wireless Bluetooth Headset V4.0 High Quality L...   \n",
       "4           4  Professional Stereo P47 Wireless Bluetooth Hea...   \n",
       "\n",
       "  Products Price                                              Links  \n",
       "0     Rs. 35,999  //www.daraz.pk/products/wireless-by-dr-dre-hea...  \n",
       "1     Rs. 19,900  //www.daraz.pk/products/e55bt-wireless-bluetoo...  \n",
       "2        Rs. 939  //www.daraz.pk/products/p47-over-the-ear-wirel...  \n",
       "3        Rs. 342  //www.daraz.pk/products/wireless-bluetooth-hea...  \n",
       "4        Rs. 799  //www.daraz.pk/products/professional-stereo-p4...  "
      ]
     },
     "execution_count": 16,
     "metadata": {},
     "output_type": "execute_result"
    }
   ],
   "source": [
    "df=pd.read_csv('E:\\Daraz\\Headphones\\Headphone Rating 5\\headphone_5.csv')\n",
    "df.head()"
   ]
  },
  {
   "cell_type": "code",
   "execution_count": 13,
   "metadata": {},
   "outputs": [],
   "source": [
    "# rating=[]\n",
    "# total=df.shape[0]\n",
    "# count=0\n",
    "# for lk in range(178,total):\n",
    "#         count+=1\n",
    "#         print(count)\n",
    "#         driver.get('https:'+df.Links[lk])\n",
    "#         html=driver.execute_script('return document.documentElement.outerHTML')\n",
    "#         data=BeautifulSoup(html,'html.parser')\n",
    "#         def scrap(scraped):\n",
    "#             nice='Null'\n",
    "#             for val in data.findAll('div',{'class':'score'}):\n",
    "#                 nice=val.text\n",
    "#             return nice\n",
    "#         a=scrap(data)\n",
    "#         rating.append(a)\n",
    "#         headphone_4_rating2=pd.DataFrame({'Rating':rating})\n",
    "#         headphone_4_rating2.to_csv('E:\\headphone_4_rating2.csv')"
   ]
  },
  {
   "cell_type": "code",
   "execution_count": 22,
   "metadata": {},
   "outputs": [
    {
     "data": {
      "text/plain": [
       "(373, 4)"
      ]
     },
     "execution_count": 22,
     "metadata": {},
     "output_type": "execute_result"
    }
   ],
   "source": [
    "df.shape"
   ]
  },
  {
   "cell_type": "code",
   "execution_count": 23,
   "metadata": {},
   "outputs": [
    {
     "data": {
      "text/plain": [
       "'//www.daraz.pk/products/logitech-h570e-comfortable-headset-black-i105638389-s1253116381.html?search=1'"
      ]
     },
     "execution_count": 23,
     "metadata": {},
     "output_type": "execute_result"
    }
   ],
   "source": [
    "df.Links[20]"
   ]
  },
  {
   "cell_type": "code",
   "execution_count": null,
   "metadata": {},
   "outputs": [],
   "source": []
  }
 ],
 "metadata": {
  "kernelspec": {
   "display_name": "Python 3",
   "language": "python",
   "name": "python3"
  },
  "language_info": {
   "codemirror_mode": {
    "name": "ipython",
    "version": 3
   },
   "file_extension": ".py",
   "mimetype": "text/x-python",
   "name": "python",
   "nbconvert_exporter": "python",
   "pygments_lexer": "ipython3",
   "version": "3.7.3"
  }
 },
 "nbformat": 4,
 "nbformat_minor": 2
}
