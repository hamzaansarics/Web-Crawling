{
 "cells": [
  {
   "cell_type": "code",
   "execution_count": 1,
   "metadata": {},
   "outputs": [],
   "source": [
    "import time\n",
    "import urllib \n",
    "from bs4 import BeautifulSoup\n",
    "from selenium import webdriver"
   ]
  },
  {
   "cell_type": "code",
   "execution_count": null,
   "metadata": {},
   "outputs": [],
   "source": [
    "driver=webdriver.Firefox()\n",
    "control=True\n",
    "for v in range(2,4):  \n",
    "    if control:\n",
    "        api=f'https://www.alibaba.com/catalog/earphones-accessories_cid205791204?spm=a2700.galleryofferlist.0.0.2def2d44KQ1zp0&page={v}&refine_attr_value=19088-272&param_order=ATTR-19090-350397,ATTR-19088-272'\n",
    "    driver.get(api)\n",
    "    html=driver.execute_script('return document.documentElement.outerHTML')\n",
    "    soup=BeautifulSoup(html,'html.parser')\n",
    "    print(v)\n",
    "    data=[]\n",
    "    for values in soup.findAll('div',{'class':'app-organic-search__content'}):\n",
    "        for val in values.findAll('p',{'class':'gallery-offer-price'}):\n",
    "            for v in val.findAll('span'):\n",
    "                data.append(v.text)"
   ]
  },
  {
   "cell_type": "code",
   "execution_count": 3,
   "metadata": {},
   "outputs": [
    {
     "data": {
      "text/plain": [
       "8"
      ]
     },
     "execution_count": 3,
     "metadata": {},
     "output_type": "execute_result"
    }
   ],
   "source": [
    "len(data)"
   ]
  },
  {
   "cell_type": "code",
   "execution_count": 4,
   "metadata": {},
   "outputs": [],
   "source": [
    "apis='https://www.bestbuy.com/site/headphones/wireless-headphones/pcmcat331200050015.c?id=pcmcat331200050015'"
   ]
  },
  {
   "cell_type": "code",
   "execution_count": null,
   "metadata": {},
   "outputs": [],
   "source": [
    "def scrap(url):\n",
    "    page=urllib.request.urlopen(url)\n",
    "    soup=BeautifulSoup(page,'html.parser')\n",
    "    return soup\n",
    "soup=scrap(apis)"
   ]
  },
  {
   "cell_type": "code",
   "execution_count": null,
   "metadata": {},
   "outputs": [],
   "source": [
    "soup"
   ]
  },
  {
   "cell_type": "code",
   "execution_count": null,
   "metadata": {},
   "outputs": [],
   "source": []
  }
 ],
 "metadata": {
  "kernelspec": {
   "display_name": "Python 3",
   "language": "python",
   "name": "python3"
  },
  "language_info": {
   "codemirror_mode": {
    "name": "ipython",
    "version": 3
   },
   "file_extension": ".py",
   "mimetype": "text/x-python",
   "name": "python",
   "nbconvert_exporter": "python",
   "pygments_lexer": "ipython3",
   "version": "3.7.4"
  }
 },
 "nbformat": 4,
 "nbformat_minor": 2
}
