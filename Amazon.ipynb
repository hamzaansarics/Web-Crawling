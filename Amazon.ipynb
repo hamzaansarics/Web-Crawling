{
 "cells": [
  {
   "cell_type": "code",
   "execution_count": 7,
   "metadata": {},
   "outputs": [],
   "source": [
    "import urllib \n",
    "import numpy as np\n",
    "import pandas as pd\n",
    "from selenium import webdriver\n",
    "from bs4 import BeautifulSoup\n",
    "from selenium.webdriver.chrome.options import Options"
   ]
  },
  {
   "cell_type": "code",
   "execution_count": 8,
   "metadata": {},
   "outputs": [],
   "source": [
    "chrome_options = Options()\n",
    "chrome_options.add_argument(\"--headless\")\n",
    "chrome_options.add_argument(\"--window-size=1920x1080\")\n",
    "chrome_driver = \"I:\\Web Scraping\\chromedriver.exe\""
   ]
  },
  {
   "cell_type": "code",
   "execution_count": 9,
   "metadata": {},
   "outputs": [
    {
     "name": "stderr",
     "output_type": "stream",
     "text": [
      "C:\\Users\\H A M Z A\\Anaconda3\\lib\\site-packages\\ipykernel_launcher.py:1: DeprecationWarning: use options instead of chrome_options\n",
      "  \"\"\"Entry point for launching an IPython kernel.\n"
     ]
    }
   ],
   "source": [
    "driver = webdriver.Chrome(executable_path=chrome_driver,chrome_options=chrome_options)"
   ]
  },
  {
   "cell_type": "code",
   "execution_count": null,
   "metadata": {},
   "outputs": [
    {
     "name": "stdout",
     "output_type": "stream",
     "text": [
      "1\n",
      "2\n",
      "3\n",
      "4\n",
      "5\n",
      "6\n",
      "7\n",
      "8\n",
      "9\n",
      "10\n",
      "11\n",
      "12\n",
      "13\n",
      "14\n",
      "15\n",
      "16\n",
      "17\n",
      "18\n",
      "19\n",
      "20\n",
      "21\n",
      "22\n",
      "23\n",
      "24\n",
      "25\n",
      "26\n",
      "27\n",
      "28\n",
      "29\n",
      "30\n",
      "31\n",
      "32\n",
      "33\n",
      "34\n",
      "35\n",
      "36\n",
      "37\n",
      "38\n",
      "39\n",
      "40\n",
      "41\n",
      "42\n",
      "43\n",
      "44\n",
      "45\n",
      "46\n",
      "47\n",
      "48\n",
      "49\n",
      "50\n",
      "51\n",
      "52\n",
      "53\n",
      "54\n",
      "55\n",
      "56\n",
      "57\n",
      "58\n",
      "59\n",
      "60\n",
      "61\n",
      "62\n",
      "63\n",
      "64\n",
      "65\n",
      "66\n",
      "67\n",
      "68\n",
      "69\n",
      "70\n",
      "71\n",
      "72\n",
      "73\n",
      "74\n",
      "75\n",
      "76\n",
      "77\n",
      "78\n",
      "79\n",
      "80\n",
      "81\n",
      "82\n",
      "83\n",
      "84\n",
      "85\n",
      "86\n",
      "87\n",
      "88\n",
      "89\n",
      "90\n",
      "91\n",
      "92\n",
      "93\n",
      "94\n",
      "95\n",
      "96\n",
      "97\n",
      "98\n",
      "99\n",
      "100\n",
      "101\n",
      "102\n",
      "103\n",
      "104\n",
      "105\n",
      "106\n",
      "107\n",
      "108\n",
      "109\n",
      "110\n",
      "111\n",
      "112\n",
      "113\n",
      "114\n",
      "115\n",
      "116\n",
      "117\n",
      "118\n",
      "119\n",
      "120\n",
      "121\n",
      "122\n",
      "123\n",
      "124\n",
      "125\n",
      "126\n",
      "127\n",
      "128\n",
      "129\n",
      "130\n",
      "131\n",
      "132\n",
      "133\n",
      "134\n",
      "135\n",
      "136\n",
      "137\n",
      "138\n",
      "139\n",
      "140\n",
      "141\n",
      "142\n",
      "143\n",
      "144\n",
      "145\n",
      "146\n",
      "147\n",
      "148\n",
      "149\n",
      "150\n",
      "151\n",
      "152\n",
      "153\n",
      "154\n",
      "155\n",
      "156\n",
      "157\n",
      "158\n",
      "159\n",
      "160\n",
      "161\n",
      "162\n",
      "163\n",
      "164\n",
      "165\n",
      "166\n",
      "167\n",
      "168\n",
      "169\n",
      "170\n",
      "171\n",
      "172\n",
      "173\n",
      "174\n",
      "175\n",
      "176\n"
     ]
    }
   ],
   "source": [
    "# driver=webdriver.Chrome()\n",
    "names,price1,price2,links,rating,total,price=[],[],[],[],[],[],[]\n",
    "a,b,c=0,0,0\n",
    "for p in range(1,200):\n",
    "    print(p)\n",
    "    api=f'https://www.amazon.com/s?k=dolls&i=toys-and-games-intl-ship&s=review-rank&page={p}&qid=1597419008&ref=sr_pg_3'\n",
    "    driver.get(api)\n",
    "    data=driver.execute_script('return document.documentElement.outerHTML')\n",
    "    soup=BeautifulSoup(data,'html.parser')\n",
    "    for values in soup.findAll('div',{'class':'sg-col-20-of-24 s-matching-dir sg-col-28-of-32 sg-col-16-of-20 sg-col sg-col-32-of-36 sg-col-8-of-12 sg-col-12-of-16 sg-col-24-of-28'}):\n",
    "        for val in values.findAll('div',{'class':'a-section a-spacing-medium'}):\n",
    "                def scrap():  \n",
    "                    tld='Null'\n",
    "                    for v in val.findAll('span',{'class':'a-size-base-plus a-color-base a-text-normal'}):\n",
    "                            tld=v.text\n",
    "                    return tld\n",
    "                names.append(scrap())\n",
    "        for val in values.findAll('div',{'class':'a-section a-spacing-medium'}):\n",
    "                def scrap():  \n",
    "                    tld='Null'\n",
    "                    for vs in val.findAll('h2',{'class':'a-size-mini a-spacing-none a-color-base s-line-clamp-4'}):\n",
    "                            for v in vs.findAll('a'):\n",
    "                                tld=v.get('href')\n",
    "                    return 'www.amazon.com'+tld\n",
    "                links.append(scrap())\n",
    "        for val in values.findAll('div',{'class':'a-section a-spacing-medium'}):\n",
    "                def scrap():  \n",
    "                    tld='Null'\n",
    "                    for rtng in val.findAll('div',{'class':'a-section a-spacing-none a-spacing-top-micro'}):\n",
    "                            for rt in rtng.findAll('span',{'class':'a-icon-alt'}):\n",
    "                                tld=rt.text\n",
    "                    return tld\n",
    "                rating.append(scrap())\n",
    "        for val in values.findAll('div',{'class':'a-section a-spacing-medium'}):\n",
    "                def scrap():  \n",
    "                    tld='Null'\n",
    "                    for ttl in val.findAll('div',{'class':'a-section a-spacing-none a-spacing-top-micro'}):\n",
    "                            for tt in ttl.findAll('span',{'class':'a-size-base'}):\n",
    "                                tld=tt.text\n",
    "                    return tld\n",
    "                total.append(scrap())\n",
    "        for pricing1 in values.findAll('div',{'class':'a-section a-spacing-medium'}):\n",
    "                def scrap_pr():\n",
    "                    P1='Null'   \n",
    "                    SM=[]\n",
    "                    for prce in pricing1.findAll('div',{'class':'a-section a-spacing-none a-spacing-top-small'}):\n",
    "                        for pr in prce.findAll('span',{'class':'a-price'}):\n",
    "                            for p in pr.findAll('span',{'class':'a-offscreen'}):\n",
    "                                P1=p.text\n",
    "                                SM.append(P1)\n",
    "                                P1=SM[0]\n",
    "                    return P1\n",
    "                T1=scrap_pr()   \n",
    "                price1.append(T1)\n",
    "        for pricing2 in values.findAll('div',{'class':'a-section a-spacing-medium'}):\n",
    "                def scrap_pr():\n",
    "                    P2='Null'   \n",
    "                    for prce in pricing2.findAll('div',{'class':'a-section a-spacing-none a-spacing-top-mini'}):\n",
    "                        for pr in prce.findAll('span',{'class':'a-color-base'}):\n",
    "                            P2=pr.text\n",
    "                    return P2\n",
    "                c+=1\n",
    "                T2=scrap_pr()   \n",
    "                price2.append(T2)\n",
    "c=0\n",
    "count=len(price1)\n",
    "while c<=count-1:\n",
    "    if price1[c]=='Null':\n",
    "        if c!=count-1:\n",
    "            price.append(price2[c])\n",
    "    else:\n",
    "        if c!=count-1:\n",
    "            price.append(price1[c])\n",
    "    c+=1"
   ]
  },
  {
   "cell_type": "code",
   "execution_count": null,
   "metadata": {},
   "outputs": [],
   "source": [
    "print(f'Name : {len(names)} \\nRating : {len(rating)} \\nPrice : {len(price)} \\nTotal : {len(total)} \\nLinks : {len(links)}')"
   ]
  },
  {
   "cell_type": "code",
   "execution_count": 33,
   "metadata": {},
   "outputs": [
    {
     "data": {
      "text/plain": [
       "'www.amazon.com/gp/slredirect/picassoRedirect.html/ref=pa_sp_btf_toys-and-games-intl-ship_sr_pg1_1?ie=UTF8&adId=A0769856Q3R7J4BBPZXZ&url=%2FMGA-Entertainment-Surprise-Fashion-Plush%2Fdp%2FB08593DL5V%2Fref%3Dsr_1_27_sspa%3Fdchild%3D1%26keywords%3Ddolls%26qid%3D1597419008%26s%3Dtoys-and-games-intl-ship%26sr%3D1-27-spons%26psc%3D1&qualifier=1597419120&id=1988198855116907&widgetName=sp_btf'"
      ]
     },
     "execution_count": 33,
     "metadata": {},
     "output_type": "execute_result"
    }
   ],
   "source": [
    "links[-1]"
   ]
  },
  {
   "cell_type": "code",
   "execution_count": 49,
   "metadata": {},
   "outputs": [],
   "source": [
    "price.append(39.99)"
   ]
  },
  {
   "cell_type": "code",
   "execution_count": 29,
   "metadata": {},
   "outputs": [
    {
     "data": {
      "text/plain": [
       "'$106.85'"
      ]
     },
     "execution_count": 29,
     "metadata": {},
     "output_type": "execute_result"
    }
   ],
   "source": [
    "price[-1]\n",
    "# def cleaner():\n",
    "#     temp=[]\n",
    "#     for s in range(len(price)):\n",
    "#         if price[s]=='Null':\n",
    "#             temp.append(s)\n",
    "#     cont,back,frwd=0,0,1\n",
    "#     btn=True\n",
    "#     damage=[]\n",
    "#     while cont<=len(temp)-2:\n",
    "#         if temp[frwd]-temp[back]>=25:\n",
    "#             if btn:\n",
    "#                 back+=1\n",
    "#                 frwd+=1\n",
    "#             else:\n",
    "#                 back+=2\n",
    "#                 frwd+=1\n",
    "#                 btn=True\n",
    "#         else:\n",
    "#             damage.append(temp[frwd])\n",
    "#             frwd+=1\n",
    "#             btn=False\n",
    "#         cont+=1\n",
    "#     return damage\n",
    "# useless_data=cleaner()"
   ]
  },
  {
   "cell_type": "code",
   "execution_count": 31,
   "metadata": {},
   "outputs": [],
   "source": [
    "price.append(74.99)"
   ]
  },
  {
   "cell_type": "code",
   "execution_count": 50,
   "metadata": {},
   "outputs": [],
   "source": [
    "dress=pd.DataFrame({'Name':names,'Price':price,'Total':total,'Rating':rating,'Links':links})"
   ]
  },
  {
   "cell_type": "code",
   "execution_count": 51,
   "metadata": {},
   "outputs": [],
   "source": [
    "dress.to_csv('E:\\\\dress.csv')"
   ]
  },
  {
   "cell_type": "code",
   "execution_count": 69,
   "metadata": {},
   "outputs": [],
   "source": [
    "price.append(43.99)"
   ]
  },
  {
   "cell_type": "code",
   "execution_count": 30,
   "metadata": {},
   "outputs": [],
   "source": []
  },
  {
   "cell_type": "code",
   "execution_count": 26,
   "metadata": {},
   "outputs": [
    {
     "name": "stdout",
     "output_type": "stream",
     "text": [
      "1\n",
      "https://www.amazon.com/Calico-Critters-Marshmallow-Mouse-Family/dp/B078J1WX8Q/ref=sr_1_2?dchild=1&qid=1585743028&s=toys-and-games&sr=1-2\n"
     ]
    }
   ],
   "source": [
    "df=pd.read_csv(r'E:\\Amazon\\Toys\\Doll\\doll.csv')\n",
    "# driver=webdriver.Chrome()\n",
    "names,price1,price2,links,rating,total,price=[],[],[],[],[],[],[]\n",
    "a,b,c=0,0,0\n",
    "for p in range(1,2):\n",
    "    print(p)\n",
    "    driver.get('https://'+str(df.Links[p]))\n",
    "    print('https://'+df.Links[p])\n",
    "    data=driver.execute_script('return document.documentElement.outerHTML')\n",
    "    soup=BeautifulSoup(data,'html.parser')\n",
    "    for values in soup.findAll('div',{'class':'sg-col-20-of-24 s-matching-dir sg-col-28-of-32 sg-col-16-of-20 sg-col sg-col-32-of-36 sg-col-8-of-12 sg-col-12-of-16 sg-col-24-of-28'}):\n",
    "#         for val in values.findAll('div',{'class':'a-section a-spacing-medium'}):\n",
    "#                 def scrap():  \n",
    "#                     tld='Null'\n",
    "#                     for v in val.findAll('span',{'class':'a-size-base-plus a-color-base a-text-normal'}):\n",
    "#                             tld=v.text\n",
    "#                     return tld\n",
    "#                 names.append(scrap())\n",
    "#         for val in values.findAll('div',{'class':'a-section a-spacing-medium'}):\n",
    "#                 def scrap():  \n",
    "#                     tld='Null'\n",
    "#                     for vs in val.findAll('h2',{'class':'a-size-mini a-spacing-none a-color-base s-line-clamp-4'}):\n",
    "#                             for v in vs.findAll('a'):\n",
    "#                                 tld=v.get('href')\n",
    "#                     return 'www.amazon.com'+tld\n",
    "#                 links.append(scrap())\n",
    "        for val in values.findAll('div',{'class':'a-section a-spacing-medium'}):\n",
    "                def scrap():  \n",
    "                    tld='Null'\n",
    "                    for rtng in val.findAll('div',{'class':'a-section a-spacing-none a-spacing-top-micro'}):\n",
    "                            for rt in rtng.findAll('span',{'class':'a-icon-alt'}):\n",
    "                                tld=rt.text\n",
    "                    return tld\n",
    "                rating.append(scrap())\n",
    "        for val in values.findAll('div',{'class':'a-section a-spacing-medium'}):\n",
    "                def scrap():  \n",
    "                    tld='Null'\n",
    "                    for ttl in val.findAll('div',{'class':'a-section a-spacing-none a-spacing-top-micro'}):\n",
    "                            for tt in ttl.findAll('span',{'class':'a-size-base'}):\n",
    "                                tld=tt.text\n",
    "                    return tld\n",
    "                total.append(scrap())\n",
    "        for pricing1 in values.findAll('div',{'class':'a-section a-spacing-medium'}):\n",
    "                def scrap_pr():\n",
    "                    P1='Null'   \n",
    "                    SM=[]\n",
    "                    for prce in pricing1.findAll('div',{'class':'a-section a-spacing-none a-spacing-top-small'}):\n",
    "                        for pr in prce.findAll('span',{'class':'a-price'}):\n",
    "                            for p in pr.findAll('span',{'class':'a-offscreen'}):\n",
    "                                P1=p.text\n",
    "                                SM.append(P1)\n",
    "                                P1=SM[0]\n",
    "                    return P1\n",
    "                T1=scrap_pr()   \n",
    "                price1.append(T1)\n",
    "        for pricing2 in values.findAll('div',{'class':'a-section a-spacing-medium'}):\n",
    "                def scrap_pr():\n",
    "                    P2='Null'   \n",
    "                    for prce in pricing2.findAll('div',{'class':'a-section a-spacing-none a-spacing-top-mini'}):\n",
    "                        for pr in prce.findAll('span',{'class':'a-color-base'}):\n",
    "                            P2=pr.text\n",
    "                    return P2\n",
    "                c+=1\n",
    "                T2=scrap_pr()   \n",
    "                price2.append(T2)\n",
    "c=0\n",
    "count=len(price1)\n",
    "while c<=count-1:\n",
    "    if price1[c]=='Null':\n",
    "        if c!=count-1:\n",
    "            price.append(price2[c])\n",
    "    else:\n",
    "        if c!=count-1:\n",
    "            price.append(price1[c])\n",
    "    c+=1\n"
   ]
  },
  {
   "cell_type": "code",
   "execution_count": 27,
   "metadata": {},
   "outputs": [
    {
     "data": {
      "text/plain": [
       "[]"
      ]
     },
     "execution_count": 27,
     "metadata": {},
     "output_type": "execute_result"
    }
   ],
   "source": [
    "price"
   ]
  },
  {
   "cell_type": "code",
   "execution_count": 28,
   "metadata": {},
   "outputs": [
    {
     "data": {
      "text/plain": [
       "[]"
      ]
     },
     "execution_count": 28,
     "metadata": {},
     "output_type": "execute_result"
    }
   ],
   "source": [
    "rating"
   ]
  },
  {
   "cell_type": "code",
   "execution_count": 29,
   "metadata": {},
   "outputs": [
    {
     "data": {
      "text/plain": [
       "[]"
      ]
     },
     "execution_count": 29,
     "metadata": {},
     "output_type": "execute_result"
    }
   ],
   "source": [
    "total"
   ]
  },
  {
   "cell_type": "code",
   "execution_count": 10,
   "metadata": {},
   "outputs": [],
   "source": [
    "driver.get('https://preview.colorlib.com/theme/personalportfolio/index.html')"
   ]
  },
  {
   "cell_type": "code",
   "execution_count": 11,
   "metadata": {},
   "outputs": [],
   "source": [
    "data=driver.execute_script('return document.documentElement.outerHTML')"
   ]
  },
  {
   "cell_type": "code",
   "execution_count": 12,
   "metadata": {},
   "outputs": [
    {
     "data": {
      "text/plain": [
       "'<html class=\"js sizes customelements history pointerevents postmessage webgl websockets cssanimations csscolumns csscolumns-width csscolumns-span csscolumns-fill csscolumns-gap csscolumns-rule csscolumns-rulecolor csscolumns-rulestyle csscolumns-rulewidth csscolumns-breakbefore csscolumns-breakafter csscolumns-breakinside flexbox picture srcset webworkers\" lang=\"zxx\"><head>\\n<meta charset=\"utf-8\">\\n<meta http-equiv=\"x-ua-compatible\" content=\"ie=edge\">\\n<title>Personal HTML-5 Template </title>\\n<meta name=\"description\" content=\"\">\\n<meta name=\"viewport\" content=\"width=device-width, initial-scale=1\">\\n<link rel=\"manifest\" href=\"site.webmanifest\">\\n<link rel=\"shortcut icon\" type=\"image/x-icon\" href=\"assets/img/favicon.ico\">\\n<!-- CSS here -->\\n<link rel=\"stylesheet\" href=\"assets/css/bootstrap.min.css\">\\n<link rel=\"stylesheet\" href=\"assets/css/owl.carousel.min.css\">\\n<link rel=\"stylesheet\" href=\"assets/css/slicknav.css\">\\n<link rel=\"stylesheet\" href=\"assets/css/flaticon.css\">\\n<link rel=\"stylesheet\" href=\"assets/css/animate.min.css\">\\n<link rel=\"stylesheet\" href=\"assets/css/magnific-popup.css\">\\n<link rel=\"stylesheet\" href=\"assets/css/fontawesome-all.min.css\">\\n<link rel=\"stylesheet\" href=\"assets/css/themify-icons.css\">\\n<link rel=\"stylesheet\" href=\"assets/css/slick.css\">\\n<link rel=\"stylesheet\" href=\"assets/css/nice-select.css\">\\n<link rel=\"stylesheet\" href=\"assets/css/style.css\">\\n</head>\\n<body style=\"overflow: visible;\">\\n<!-- Preloader Start -->\\n<div id=\"preloader-active\" style=\"display: none;\">\\n<div class=\"preloader d-flex align-items-center justify-content-center\">\\n<div class=\"preloader-inner position-relative\">\\n<div class=\"preloader-circle\"></div>\\n<div class=\"preloader-img pere-text\">\\n<script type=\"text/javascript\" async=\"\" src=\"https://www.google-analytics.com/analytics.js\"></script><script data-pagespeed-no-defer=\"\">//<![CDATA[\\n(function(){for(var g=\"function\"==typeof Object.defineProperties?Object.defineProperty:function(b,c,a){if(a.get||a.set)throw new TypeError(\"ES3 does not support getters and setters.\");b!=Array.prototype&&b!=Object.prototype&&(b[c]=a.value)},h=\"undefined\"!=typeof window&&window===this?this:\"undefined\"!=typeof global&&null!=global?global:this,k=[\"String\",\"prototype\",\"repeat\"],l=0;l<k.length-1;l++){var m=k[l];m in h||(h[m]={});h=h[m]}var n=k[k.length-1],p=h[n],q=p?p:function(b){var c;if(null==this)throw new TypeError(\"The \\'this\\' value for String.prototype.repeat must not be null or undefined\");c=this+\"\";if(0>b||1342177279<b)throw new RangeError(\"Invalid count value\");b|=0;for(var a=\"\";b;)if(b&1&&(a+=c),b>>>=1)c+=c;return a};q!=p&&null!=q&&g(h,n,{configurable:!0,writable:!0,value:q});var t=this;function u(b,c){var a=b.split(\".\"),d=t;a[0]in d||!d.execScript||d.execScript(\"var \"+a[0]);for(var e;a.length&&(e=a.shift());)a.length||void 0===c?d[e]?d=d[e]:d=d[e]={}:d[e]=c};function v(b){var c=b.length;if(0<c){for(var a=Array(c),d=0;d<c;d++)a[d]=b[d];return a}return[]};function w(b){var c=window;if(c.addEventListener)c.addEventListener(\"load\",b,!1);else if(c.attachEvent)c.attachEvent(\"onload\",b);else{var a=c.onload;c.onload=function(){b.call(this);a&&a.call(this)}}};var x;function y(b,c,a,d,e){this.h=b;this.j=c;this.l=a;this.f=e;this.g={height:window.innerHeight||document.documentElement.clientHeight||document.body.clientHeight,width:window.innerWidth||document.documentElement.clientWidth||document.body.clientWidth};this.i=d;this.b={};this.a=[];this.c={}}function z(b,c){var a,d,e=c.getAttribute(\"data-pagespeed-url-hash\");if(a=e&&!(e in b.c))if(0>=c.offsetWidth&&0>=c.offsetHeight)a=!1;else{d=c.getBoundingClientRect();var f=document.body;a=d.top+(\"pageYOffset\"in window?window.pageYOffset:(document.documentElement||f.parentNode||f).scrollTop);d=d.left+(\"pageXOffset\"in window?window.pageXOffset:(document.documentElement||f.parentNode||f).scrollLeft);f=a.toString()+\",\"+d;b.b.hasOwnProperty(f)?a=!1:(b.b[f]=!0,a=a<=b.g.height&&d<=b.g.width)}a&&(b.a.push(e),b.c[e]=!0)}y.prototype.checkImageForCriticality=function(b){b.getBoundingClientRect&&z(this,b)};u(\"pagespeed.CriticalImages.checkImageForCriticality\",function(b){x.checkImageForCriticality(b)});u(\"pagespeed.CriticalImages.checkCriticalImages\",function(){A(x)});function A(b){b.b={};for(var c=[\"IMG\",\"INPUT\"],a=[],d=0;d<c.length;++d)a=a.concat(v(document.getElementsByTagName(c[d])));if(a.length&&a[0].getBoundingClientRect){for(d=0;c=a[d];++d)z(b,c);a=\"oh=\"+b.l;b.f&&(a+=\"&n=\"+b.f);if(c=!!b.a.length)for(a+=\"&ci=\"+encodeURIComponent(b.a[0]),d=1;d<b.a.length;++d){var e=\",\"+encodeURIComponent(b.a[d]);131072>=a.length+e.length&&(a+=e)}b.i&&(e=\"&rd=\"+encodeURIComponent(JSON.stringify(B())),131072>=a.length+e.length&&(a+=e),c=!0);C=a;if(c){d=b.h;b=b.j;var f;if(window.XMLHttpRequest)f=new XMLHttpRequest;else if(window.ActiveXObject)try{f=new ActiveXObject(\"Msxml2.XMLHTTP\")}catch(r){try{f=new ActiveXObject(\"Microsoft.XMLHTTP\")}catch(D){}}f&&(f.open(\"POST\",d+(-1==d.indexOf(\"?\")?\"?\":\"&\")+\"url=\"+encodeURIComponent(b)),f.setRequestHeader(\"Content-Type\",\"application/x-www-form-urlencoded\"),f.send(a))}}}function B(){var b={},c;c=document.getElementsByTagName(\"IMG\");if(!c.length)return{};var a=c[0];if(!(\"naturalWidth\"in a&&\"naturalHeight\"in a))return{};for(var d=0;a=c[d];++d){var e=a.getAttribute(\"data-pagespeed-url-hash\");e&&(!(e in b)&&0<a.width&&0<a.height&&0<a.naturalWidth&&0<a.naturalHeight||e in b&&a.width>=b[e].o&&a.height>=b[e].m)&&(b[e]={rw:a.width,rh:a.height,ow:a.naturalWidth,oh:a.naturalHeight})}return b}var C=\"\";u(\"pagespeed.CriticalImages.getBeaconData\",function(){return C});u(\"pagespeed.CriticalImages.Run\",function(b,c,a,d,e,f){var r=new y(b,c,a,e,f);x=r;d&&w(function(){window.setTimeout(function(){A(r)},0)})});})();pagespeed.CriticalImages.Run(\\'/mod_pagespeed_beacon\\',\\'https://preview.colorlib.com/theme/personalportfolio/index.html\\',\\'oJcOUTg7z9\\',true,false,\\'0DPYCn7KzYc\\');\\n//]]></script><img src=\"assets/img/logo/loder.jpg\" alt=\"\" data-pagespeed-url-hash=\"4168296971\" onload=\"pagespeed.CriticalImages.checkImageForCriticality(this);\">\\n</div>\\n</div>\\n</div>\\n</div>\\n<!-- Preloader Start -->\\n<header>\\n<!-- Header Start -->\\n<div class=\"header-area\">\\n<div class=\"main-header  header-sticky\">\\n<div class=\"container-fluid\">\\n<div class=\"row align-items-center\">\\n<!-- Logo -->\\n<div class=\"col-xl-2 col-lg-2 col-md-1\">\\n<div class=\"logo\">\\n<a href=\"index.html\"><img src=\"assets/img/logo/logo.png\" alt=\"\" data-pagespeed-url-hash=\"3845301560\" onload=\"pagespeed.CriticalImages.checkImageForCriticality(this);\"></a>\\n</div>\\n</div>\\n<div class=\"col-xl-10 col-lg-10 col-md-10\">\\n<div class=\"menu-main d-flex align-items-center justify-content-end\">\\n<!-- Main-menu -->\\n<div class=\"main-menu f-right d-none d-lg-block\">\\n<nav>\\n<ul id=\"navigation\">\\n<li><a href=\"index.html\">Home</a></li>\\n<li><a href=\"about.html\">About</a></li>\\n<li><a href=\"services.html\">Services</a></li>\\n<li><a href=\"portfolio.html\">Portfolio</a></li>\\n<li><a href=\"#\">Page</a>\\n<ul class=\"submenu\">\\n<li><a href=\"blog.html\">Blog</a></li>\\n<li><a href=\"blog_details.html\">Blog Details</a></li>\\n<li><a href=\"elements.html\">Element</a></li>\\n<li><a href=\"portfolio_details.html\">Portfolio Details</a></li>\\n</ul>\\n</li>\\n<li><a href=\"contact.html\">Contact</a></li>\\n</ul>\\n</nav>\\n</div>\\n<div class=\"header-right-btn f-right d-none d-xl-block ml-20\">\\n<a href=\"#\" class=\"btn header-btn\">Get Free Consultent</a>\\n</div>\\n</div>\\n</div>\\n<!-- Mobile Menu -->\\n<div class=\"col-12\">\\n<div class=\"mobile_menu d-block d-lg-none\"><div class=\"slicknav_menu\"><a href=\"#\" aria-haspopup=\"true\" role=\"button\" tabindex=\"0\" class=\"slicknav_btn slicknav_collapsed\"><span class=\"slicknav_menutxt\">MENU</span><span class=\"slicknav_icon\"><span class=\"slicknav_icon-bar\"></span><span class=\"slicknav_icon-bar\"></span><span class=\"slicknav_icon-bar\"></span></span></a><ul class=\"slicknav_nav slicknav_hidden\" aria-hidden=\"true\" role=\"menu\" style=\"display: none;\">\\n<li><a href=\"index.html\" role=\"menuitem\" tabindex=\"-1\">Home</a></li>\\n<li><a href=\"about.html\" role=\"menuitem\" tabindex=\"-1\">About</a></li>\\n<li><a href=\"services.html\" role=\"menuitem\" tabindex=\"-1\">Services</a></li>\\n<li><a href=\"portfolio.html\" role=\"menuitem\" tabindex=\"-1\">Portfolio</a></li>\\n<li class=\"slicknav_collapsed slicknav_parent\"><a href=\"#\" role=\"menuitem\" aria-haspopup=\"true\" tabindex=\"-1\" class=\"slicknav_item slicknav_row\"><a href=\"#\" tabindex=\"-1\">Page</a>\\n<span class=\"slicknav_arrow\">+</span></a><ul class=\"submenu slicknav_hidden\" role=\"menu\" aria-hidden=\"true\" style=\"display: none;\">\\n<li><a href=\"blog.html\" role=\"menuitem\" tabindex=\"-1\">Blog</a></li>\\n<li><a href=\"blog_details.html\" role=\"menuitem\" tabindex=\"-1\">Blog Details</a></li>\\n<li><a href=\"elements.html\" role=\"menuitem\" tabindex=\"-1\">Element</a></li>\\n<li><a href=\"portfolio_details.html\" role=\"menuitem\" tabindex=\"-1\">Portfolio Details</a></li>\\n</ul>\\n</li>\\n<li><a href=\"contact.html\" role=\"menuitem\" tabindex=\"-1\">Contact</a></li>\\n</ul></div></div>\\n</div>\\n</div>\\n</div>\\n</div>\\n</div>\\n<!-- Header End -->\\n</header>\\n<main>\\n<!-- slider Area Start-->\\n<div class=\"slider-area \">\\n<div class=\"slider-active slick-initialized slick-slider\">\\n<!-- Single Slider -->\\n<div class=\"slick-list draggable\"><div class=\"slick-track\" style=\"opacity: 1; width: 3806px;\"><div class=\"single-slider slider-height d-flex align-items-center slick-slide slick-current slick-active\" data-slick-index=\"0\" aria-hidden=\"false\" tabindex=\"0\" style=\"width: 1903px; position: relative; left: 0px; top: 0px; z-index: 999; opacity: 1;\">\\n<div class=\"container\">\\n<div class=\"row\">\\n<div class=\"col-xl-6 col-lg-6 col-md-8\">\\n<div class=\"hero__caption\">\\n<span data-animation=\"fadeInUp\" data-delay=\".4s\" class=\"\" style=\"animation-delay: 0.4s;\">Get Every Single Solutions.</span>\\n<h1 data-animation=\"fadeInUp\" data-delay=\".6s\" class=\"\" style=\"animation-delay: 0.6s;\">I’m Designer Haris F. Watson</h1>\\n<p data-animation=\"fadeInUp\" data-delay=\".8s\" class=\"\" style=\"animation-delay: 0.8s;\">jhorem rfpsum golor sidt amet, consectetur adipiscing elit, eiusmod tempor incididunt utcjhg labore bet dolore magna aliqua. Quis ipsum suspendisse ultrices gravida.</p>\\n<!-- Hero-btn -->\\n<div class=\"hero__btn\">\\n<a href=\"industries.html\" class=\"btn hero-btn\" data-animation=\"fadeInLeft\" data-delay=\".8s\" tabindex=\"0\" style=\"animation-delay: 0.8s;\">Learn More</a>\\n<a href=\"industries.html\" class=\"btn border-btn ml-15\" data-animation=\"fadeInRight\" data-delay=\"1.0s\" tabindex=\"0\" style=\"animation-delay: 1s;\">Hire Me</a>\\n</div>\\n</div>\\n</div>\\n</div>\\n</div>\\n</div><div class=\"single-slider slider-height d-flex align-items-center slick-slide\" data-slick-index=\"1\" aria-hidden=\"true\" tabindex=\"-1\" style=\"width: 1903px; position: relative; left: -1903px; top: 0px; z-index: 998; opacity: 0;\">\\n<div class=\"container\">\\n<div class=\"row\">\\n<div class=\"col-xl-6 col-lg-6 col-md-8\">\\n<div class=\"hero__caption\">\\n<span data-animation=\"fadeInUp\" data-delay=\".4s\">Get Every Single Solutions.</span>\\n<h1 data-animation=\"fadeInUp\" data-delay=\".6s\">I’m Designer Haris F. Watson</h1>\\n<p data-animation=\"fadeInUp\" data-delay=\".8s\">jhorem rfpsum golor sidt amet, consectetur adipiscing elit, eiusmod tempor incididunt utcjhg labore bet dolore magna aliqua. Quis ipsum suspendisse ultrices gravida.</p>\\n<!-- Hero-btn -->\\n<div class=\"hero__btn\">\\n<a href=\"industries.html\" class=\"btn hero-btn\" data-animation=\"fadeInLeft\" data-delay=\".8s\" tabindex=\"-1\">Learn More</a>\\n<a href=\"industries.html\" class=\"btn border-btn ml-15\" data-animation=\"fadeInRight\" data-delay=\"1.0s\" tabindex=\"-1\">Hire Me</a>\\n</div>\\n</div>\\n</div>\\n</div>\\n</div>\\n</div></div></div>\\n<!-- Single Slider -->\\n\\n</div>\\n</div>\\n<!-- slider Area End-->\\n<!-- About Area start -->\\n<section class=\"about-area section-paddingt30\">\\n<div class=\"container\">\\n<div class=\"row \">\\n<div class=\"col-lg-5\">\\n<div class=\"about-caption mb-50\">\\n<h3>Designing With Passion While Exploring The World.</h3>\\n<p class=\"pera1\">Consectetur adipiscing elit, sed do eiusmod tempor ididunt ut labore et dolore magna aliqua. Quis ipsum suspendisces gravida. Risus commodo viverra sebfd dho eiusmod tempor maecenas accumsan lacus.</p>\\n<p>Consectetur adipiscing elit, sed do eiusmod tempor ididunt ut labore et dolore magna aliqua. </p>\\n</div>\\n</div>\\n<div class=\"col-lg-5 offset-lg-1\">\\n<div class=\"about-caption2\">\\n<h3>Any Type Of Query<br> &amp; Discussion.</h3>\\n<p>Late talk with me</p>\\n<div class=\"send-cv\">\\n<a href=\"#\">hire@colorlib.com</a>\\n<i class=\"ti-arrow-right\"></i>\\n</div>\\n</div>\\n</div>\\n</div>\\n</div>\\n</section>\\n<!-- About Area End -->\\n<!-- Categories Area Start -->\\n<section class=\"categories-area section-padding3\">\\n<div class=\"container\">\\n<div class=\"row\">\\n<div class=\"col-lg-6\">\\n<!-- Section Tittle -->\\n<div class=\"section-tittle mb-70\">\\n<h2>What Services you will Get from me!</h2>\\n</div>\\n</div>\\n</div>\\n<div class=\"row\">\\n<div class=\"col-lg-4 col-md-6 col-sm-6\">\\n<div class=\"single-cat text-center mb-50\">\\n<div class=\"cat-icon\">\\n<span class=\"flaticon-pen\"></span>\\n</div>\\n<div class=\"cat-cap\">\\n<h5><a href=\"services.html\">UI/UX Design</a></h5>\\n<p>Free resource that will help nderstand thecv designc process and improve theroi nderstand the design process andisei impro are of vquality.</p>\\n</div>\\n</div>\\n</div>\\n<div class=\"col-lg-4 col-md-6 col-sm-6\">\\n<div class=\"single-cat text-center mb-50\">\\n<div class=\"cat-icon\">\\n<span class=\"flaticon-speaker\"></span>\\n</div>\\n<div class=\"cat-cap\">\\n<h5><a href=\"services.html\">Digital Marketing</a></h5>\\n<p>Free resource that will help nderstand thecv designc process and improve theroi nderstand the design process andisei impro are of vquality.</p>\\n</div>\\n</div>\\n</div>\\n<div class=\"col-lg-4 col-md-6 col-sm-6\">\\n<div class=\"single-cat text-center mb-50\">\\n<div class=\"cat-icon\">\\n<span class=\"flaticon-portfolio\"></span>\\n</div>\\n<div class=\"cat-cap\">\\n<h5><a href=\"services.html\">Website Design</a></h5>\\n<p>Free resource that will help nderstand thecv designc process and improve theroi nderstand the design process andisei impro are of vquality.</p>\\n</div>\\n</div>\\n</div>\\n</div>\\n</div>\\n</section>\\n<!-- Categories Area End -->\\n<!-- Services Area Start -->\\n<section class=\"services-area  services-padding\">\\n<div class=\"container\">\\n<div class=\"project-heading mb-35\">\\n<div class=\"row align-items-end\">\\n<div class=\"col-lg-6\">\\n<!-- Section Tittle -->\\n<div class=\"section-tittle\">\\n<h2>What Services you will Get from me!</h2>\\n</div>\\n</div>\\n<div class=\"col-lg-6\">\\n<div class=\"properties__button\">\\n<!--Nav Button  -->\\n<nav>\\n<div class=\"nav nav-tabs\" id=\"nav-tab\" role=\"tablist\">\\n<a class=\"nav-item nav-link active\" id=\"nav-home-tab\" data-toggle=\"tab\" href=\"#nav-home\" role=\"tab\" aria-controls=\"nav-home\" aria-selected=\"false\"> All</a>\\n<a class=\"nav-item nav-link\" id=\"nav-profile-tab\" data-toggle=\"tab\" href=\"#nav-profile\" role=\"tab\" aria-controls=\"nav-profile\" aria-selected=\"false\"> Branding</a>\\n<a class=\"nav-item nav-link\" id=\"nav-contact-tab\" data-toggle=\"tab\" href=\"#nav-contact\" role=\"tab\" aria-controls=\"nav-contact\" aria-selected=\"false\">Logo</a>\\n<a class=\"nav-item nav-link\" id=\"nav-last-tab\" data-toggle=\"tab\" href=\"#nav-last\" role=\"tab\" aria-controls=\"nav-contact\" aria-selected=\"false\">UI/UX </a>\\n<a class=\"nav-item nav-link\" id=\"nav-technology\" data-toggle=\"tab\" href=\"#nav-techno\" role=\"tab\" aria-controls=\"nav-contact\" aria-selected=\"false\">Web Design</a>\\n</div>\\n</nav>\\n<!--End Nav Button  -->\\n</div>\\n</div>\\n</div>\\n</div>\\n<div class=\"row\">\\n<div class=\"col-12\">\\n<!-- Nav Card -->\\n<div class=\"tab-content active\" id=\"nav-tabContent\">\\n<!-- card ONE -->\\n<div class=\"tab-pane fade active show\" id=\"nav-home\" role=\"tabpanel\" aria-labelledby=\"nav-home-tab\">\\n<div class=\"services-caption\">\\n<div class=\"row\">\\n<div class=\"col-lg-8 col-md-8 col-sm-8\">\\n<!-- Single -->\\n<div class=\"single-services mb-30\">\\n<img src=\"assets/img/service/services1.png\" alt=\"\" data-pagespeed-url-hash=\"3958837646\" onload=\"pagespeed.CriticalImages.checkImageForCriticality(this);\">\\n</div>\\n</div>\\n<div class=\"col-lg-4 col-md-4 col-sm-4\">\\n<div class=\"row\">\\n<div class=\"col-lg-12\">\\n<!-- Single -->\\n<div class=\"single-services mb-30\">\\n<img src=\"assets/img/service/services2.png\" alt=\"\" data-pagespeed-url-hash=\"4253337567\" onload=\"pagespeed.CriticalImages.checkImageForCriticality(this);\">\\n</div>\\n</div>\\n<div class=\"col-lg-12\">\\n<!-- Single -->\\n<div class=\"single-services mb-30\">\\n<img src=\"assets/img/service/services3.png\" alt=\"\" data-pagespeed-url-hash=\"252870192\" onload=\"pagespeed.CriticalImages.checkImageForCriticality(this);\">\\n</div>\\n</div>\\n</div>\\n</div>\\n<div class=\"col-lg-4 col-md-4 col-sm-4\">\\n<!-- Single -->\\n<div class=\"single-services mb-30\">\\n<img src=\"assets/img/service/services4.png\" alt=\"\" data-pagespeed-url-hash=\"547370113\" onload=\"pagespeed.CriticalImages.checkImageForCriticality(this);\">\\n</div>\\n</div>\\n<div class=\"col-lg-4 col-md-4 col-sm-4\">\\n<!-- Single -->\\n<div class=\"single-services mb-30\">\\n<img src=\"assets/img/service/services5.png\" alt=\"\" data-pagespeed-url-hash=\"841870034\" onload=\"pagespeed.CriticalImages.checkImageForCriticality(this);\">\\n</div>\\n</div>\\n<div class=\"col-lg-4 col-md-4 col-sm-4\">\\n<!-- Single -->\\n<div class=\"single-services mb-30\">\\n<img src=\"assets/img/service/services6.png\" alt=\"\" data-pagespeed-url-hash=\"1136369955\" onload=\"pagespeed.CriticalImages.checkImageForCriticality(this);\">\\n</div>\\n</div>\\n</div>\\n</div>\\n</div>\\n<!-- Card TWO -->\\n<div class=\"tab-pane fade\" id=\"nav-profile\" role=\"tabpanel\" aria-labelledby=\"nav-profile-tab\">\\n<div class=\"services-caption\">\\n<div class=\"row\">\\n<div class=\"col-lg-8 col-md-8 col-sm-8\">\\n<!-- Single -->\\n<div class=\"single-services mb-30\">\\n<img src=\"assets/img/service/services6.png\" alt=\"\" data-pagespeed-url-hash=\"1136369955\" onload=\"pagespeed.CriticalImages.checkImageForCriticality(this);\">\\n</div>\\n</div>\\n<div class=\"col-lg-4 col-md-4 col-sm-4\">\\n<div class=\"row\">\\n<div class=\"col-lg-12\">\\n<!-- Single -->\\n<div class=\"single-services mb-30\">\\n<img src=\"assets/img/service/services2.png\" alt=\"\" data-pagespeed-url-hash=\"4253337567\" onload=\"pagespeed.CriticalImages.checkImageForCriticality(this);\">\\n</div>\\n</div>\\n<div class=\"col-lg-12\">\\n<!-- Single -->\\n<div class=\"single-services mb-30\">\\n<img src=\"assets/img/service/services3.png\" alt=\"\" data-pagespeed-url-hash=\"252870192\" onload=\"pagespeed.CriticalImages.checkImageForCriticality(this);\">\\n</div>\\n</div>\\n</div>\\n</div>\\n<div class=\"col-lg-4 col-md-4 col-sm-4\">\\n<!-- Single -->\\n<div class=\"single-services mb-30\">\\n<img src=\"assets/img/service/services4.png\" alt=\"\" data-pagespeed-url-hash=\"547370113\" onload=\"pagespeed.CriticalImages.checkImageForCriticality(this);\">\\n</div>\\n</div>\\n<div class=\"col-lg-4 col-md-4 col-sm-4\">\\n<!-- Single -->\\n<div class=\"single-services mb-30\">\\n<img src=\"assets/img/service/services5.png\" alt=\"\" data-pagespeed-url-hash=\"841870034\" onload=\"pagespeed.CriticalImages.checkImageForCriticality(this);\">\\n</div>\\n</div>\\n<div class=\"col-lg-4 col-md-4 col-sm-4\">\\n<!-- Single -->\\n<div class=\"single-services mb-30\">\\n<img src=\"assets/img/service/services1.png\" alt=\"\" data-pagespeed-url-hash=\"3958837646\" onload=\"pagespeed.CriticalImages.checkImageForCriticality(this);\">\\n</div>\\n</div>\\n</div>\\n</div>\\n</div>\\n<!-- Card THREE -->\\n<div class=\"tab-pane fade\" id=\"nav-contact\" role=\"tabpanel\" aria-labelledby=\"nav-contact-tab\">\\n<div class=\"services-caption\">\\n<div class=\"row\">\\n<div class=\"col-lg-8 col-md-8 col-sm-8\">\\n<!-- Single -->\\n<div class=\"single-services mb-30\">\\n<img src=\"assets/img/service/services2.png\" alt=\"\" data-pagespeed-url-hash=\"4253337567\" onload=\"pagespeed.CriticalImages.checkImageForCriticality(this);\">\\n</div>\\n</div>\\n<div class=\"col-lg-4 col-md-4 col-sm-4\">\\n<div class=\"row\">\\n<div class=\"col-lg-12\">\\n<!-- Single -->\\n<div class=\"single-services mb-30\">\\n<img src=\"assets/img/service/services1.png\" alt=\"\" data-pagespeed-url-hash=\"3958837646\" onload=\"pagespeed.CriticalImages.checkImageForCriticality(this);\">\\n</div>\\n</div>\\n<div class=\"col-lg-12\">\\n<!-- Single -->\\n<div class=\"single-services mb-30\">\\n<img src=\"assets/img/service/services3.png\" alt=\"\" data-pagespeed-url-hash=\"252870192\" onload=\"pagespeed.CriticalImages.checkImageForCriticality(this);\">\\n</div>\\n</div>\\n</div>\\n</div>\\n<div class=\"col-lg-4 col-md-4 col-sm-4\">\\n<!-- Single -->\\n<div class=\"single-services mb-30\">\\n<img src=\"assets/img/service/services4.png\" alt=\"\" data-pagespeed-url-hash=\"547370113\" onload=\"pagespeed.CriticalImages.checkImageForCriticality(this);\">\\n</div>\\n</div>\\n<div class=\"col-lg-4 col-md-4 col-sm-4\">\\n<!-- Single -->\\n<div class=\"single-services mb-30\">\\n<img src=\"assets/img/service/services5.png\" alt=\"\" data-pagespeed-url-hash=\"841870034\" onload=\"pagespeed.CriticalImages.checkImageForCriticality(this);\">\\n</div>\\n</div>\\n<div class=\"col-lg-4 col-md-4 col-sm-4\">\\n<!-- Single -->\\n<div class=\"single-services mb-30\">\\n<img src=\"assets/img/service/services6.png\" alt=\"\" data-pagespeed-url-hash=\"1136369955\" onload=\"pagespeed.CriticalImages.checkImageForCriticality(this);\">\\n</div>\\n</div>\\n</div>\\n</div>\\n</div>\\n<!-- card FUR -->\\n<div class=\"tab-pane fade\" id=\"nav-last\" role=\"tabpanel\" aria-labelledby=\"nav-last-tab\">\\n<div class=\"services-caption\">\\n<div class=\"row\">\\n<div class=\"col-lg-8 col-md-8 col-sm-8\">\\n<!-- Single -->\\n<div class=\"single-services mb-30\">\\n<img src=\"assets/img/service/services1.png\" alt=\"\" data-pagespeed-url-hash=\"3958837646\" onload=\"pagespeed.CriticalImages.checkImageForCriticality(this);\">\\n</div>\\n</div>\\n<div class=\"col-lg-4 col-md-4 col-sm-4\">\\n<div class=\"row\">\\n<div class=\"col-lg-12\">\\n<!-- Single -->\\n<div class=\"single-services mb-30\">\\n<img src=\"assets/img/service/services2.png\" alt=\"\" data-pagespeed-url-hash=\"4253337567\" onload=\"pagespeed.CriticalImages.checkImageForCriticality(this);\">\\n</div>\\n</div>\\n<div class=\"col-lg-12\">\\n<!-- Single -->\\n<div class=\"single-services mb-30\">\\n<img src=\"assets/img/service/services3.png\" alt=\"\" data-pagespeed-url-hash=\"252870192\" onload=\"pagespeed.CriticalImages.checkImageForCriticality(this);\">\\n</div>\\n</div>\\n</div>\\n</div>\\n<div class=\"col-lg-4 col-md-4 col-sm-4\">\\n<!-- Single -->\\n<div class=\"single-services mb-30\">\\n<img src=\"assets/img/service/services4.png\" alt=\"\" data-pagespeed-url-hash=\"547370113\" onload=\"pagespeed.CriticalImages.checkImageForCriticality(this);\">\\n</div>\\n</div>\\n<div class=\"col-lg-4 col-md-4 col-sm-4\">\\n<!-- Single -->\\n<div class=\"single-services mb-30\">\\n<img src=\"assets/img/service/services5.png\" alt=\"\" data-pagespeed-url-hash=\"841870034\" onload=\"pagespeed.CriticalImages.checkImageForCriticality(this);\">\\n</div>\\n</div>\\n<div class=\"col-lg-4 col-md-4 col-sm-4\">\\n<!-- Single -->\\n<div class=\"single-services mb-30\">\\n<img src=\"assets/img/service/services6.png\" alt=\"\" data-pagespeed-url-hash=\"1136369955\" onload=\"pagespeed.CriticalImages.checkImageForCriticality(this);\">\\n</div>\\n</div>\\n</div>\\n</div>\\n</div>\\n<!-- card FIVE -->\\n<div class=\"tab-pane fade\" id=\"nav-techno\" role=\"tabpanel\" aria-labelledby=\"nav-technology\">\\n<div class=\"services-caption\">\\n<div class=\"row\">\\n<div class=\"col-lg-8 col-md-8 col-sm-8\">\\n<!-- Single -->\\n<div class=\"single-services mb-30\">\\n<img src=\"assets/img/service/services3.png\" alt=\"\" data-pagespeed-url-hash=\"252870192\" onload=\"pagespeed.CriticalImages.checkImageForCriticality(this);\">\\n</div>\\n</div>\\n<div class=\"col-lg-4 col-md-4 col-sm-4\">\\n<div class=\"row\">\\n<div class=\"col-lg-12\">\\n<!-- Single -->\\n<div class=\"single-services mb-30\">\\n<img src=\"assets/img/service/services2.png\" alt=\"\" data-pagespeed-url-hash=\"4253337567\" onload=\"pagespeed.CriticalImages.checkImageForCriticality(this);\">\\n</div>\\n</div>\\n<div class=\"col-lg-12\">\\n<!-- Single -->\\n<div class=\"single-services mb-30\">\\n<img src=\"assets/img/service/services1.png\" alt=\"\" data-pagespeed-url-hash=\"3958837646\" onload=\"pagespeed.CriticalImages.checkImageForCriticality(this);\">\\n</div>\\n</div>\\n</div>\\n</div>\\n<div class=\"col-lg-4 col-md-4 col-sm-4\">\\n<!-- Single -->\\n<div class=\"single-services mb-30\">\\n<img src=\"assets/img/service/services4.png\" alt=\"\" data-pagespeed-url-hash=\"547370113\" onload=\"pagespeed.CriticalImages.checkImageForCriticality(this);\">\\n</div>\\n</div>\\n<div class=\"col-lg-4 col-md-4 col-sm-4\">\\n<!-- Single -->\\n<div class=\"single-services mb-30\">\\n<img src=\"assets/img/service/services5.png\" alt=\"\" data-pagespeed-url-hash=\"841870034\" onload=\"pagespeed.CriticalImages.checkImageForCriticality(this);\">\\n</div>\\n</div>\\n<div class=\"col-lg-4 col-md-4 col-sm-4\">\\n<!-- Single -->\\n<div class=\"single-services mb-30\">\\n<img src=\"assets/img/service/services6.png\" alt=\"\" data-pagespeed-url-hash=\"1136369955\" onload=\"pagespeed.CriticalImages.checkImageForCriticality(this);\">\\n</div>\\n</div>\\n</div>\\n</div>\\n</div>\\n</div>\\n<!-- End Nav Card -->\\n</div>\\n</div>\\n</div>\\n</section>\\n<!-- Services Area End -->\\n<!-- Want To Work Start -->\\n<section class=\"wantToWork-area w-padding2\">\\n<div class=\"container\">\\n<div class=\"row align-items-center justify-content-between\">\\n<div class=\"col-xl-6 col-lg-8 col-md-8\">\\n<div class=\"wantToWork-caption wantToWork-caption2\">\\n<h2>Dont worry for contact i`m available</h2>\\n</div>\\n</div>\\n<div class=\"col-xl-2 col-lg-2 col-md-3\">\\n<a href=\"#\" class=\"btn btn-black f-right\">Contact Me Now</a>\\n</div>\\n</div>\\n</div>\\n</section>\\n<!-- Want To Work End -->\\n<!-- client-comments -->\\n<section class=\"client-comments section-paddingt30\">\\n<div class=\"container\">\\n<div class=\"row\">\\n<div class=\"col-xl-6 col-lg-8 col-md-10\">\\n<!-- Section Tittle -->\\n<div class=\"section-tittle mb-70\">\\n<h2>Some Possitive Feedback That Encourage Us</h2>\\n</div>\\n</div>\\n</div>\\n</div>\\n<!-- latest-blog-area start -->\\n<div class=\"latest-blog-area\">\\n<div class=\"container\">\\n<div class=\"custom-row\">\\n<div class=\"blog-active slick-initialized slick-slider\"><button type=\"button\" class=\"slick-prev slick-arrow\" style=\"display: block;\"><i class=\"ti-angle-left\"></i></button>\\n<!-- single-items -->\\n<div class=\"slick-list draggable\"><div class=\"slick-track\" style=\"opacity: 1; width: 4400px; transform: translate3d(-1200px, 0px, 0px);\"><div class=\"col-xl-4 slick-slide slick-cloned\" data-slick-index=\"-3\" aria-hidden=\"true\" tabindex=\"-1\" style=\"width: 400px;\">\\n<div class=\"blog-wrapper\">\\n<div class=\"blog-inner\">\\n<div class=\"blog-top\">\\n<div class=\"person-img\">\\n<img src=\"assets/img/gallery/blog2.png\" alt=\"\" data-pagespeed-url-hash=\"2102172892\" onload=\"pagespeed.CriticalImages.checkImageForCriticality(this);\">\\n</div>\\n<div class=\"comment-person\">\\n<h2>Bradley Erickson</h2>\\n<span>UI/UX Designer</span>\\n</div>\\n</div>\\n<p>Consectetur adipisicing elit, seddosdoe eiusmod tempor incididunt utore etstes dolore magna aliqua. Ut imminim restai veniam, quis nostrud.</p>\\n</div>\\n</div>\\n</div><div class=\"col-xl-4 slick-slide slick-cloned\" data-slick-index=\"-2\" aria-hidden=\"true\" tabindex=\"-1\" style=\"width: 400px;\">\\n<div class=\"blog-wrapper\">\\n<div class=\"blog-inner\">\\n<div class=\"blog-top\">\\n<div class=\"person-img\">\\n<img src=\"assets/img/gallery/blog3.png\" alt=\"\" data-pagespeed-url-hash=\"2396672813\" onload=\"pagespeed.CriticalImages.checkImageForCriticality(this);\">\\n</div>\\n<div class=\"comment-person\">\\n<h2>Bradley Erickson</h2>\\n<span>UI/UX Designer</span>\\n</div>\\n</div>\\n<p>Consectetur adipisicing elit, seddosdoe eiusmod tempor incididunt utore etstes dolore magna aliqua. Ut imminim restai veniam, quis nostrud.</p>\\n</div>\\n</div>\\n</div><div class=\"col-xl-4 slick-slide slick-cloned\" data-slick-index=\"-1\" aria-hidden=\"true\" tabindex=\"-1\" style=\"width: 400px;\">\\n<div class=\"blog-wrapper\">\\n<div class=\"blog-inner\">\\n<div class=\"blog-top\">\\n<div class=\"person-img\">\\n<img src=\"assets/img/gallery/blog2.png\" alt=\"\" data-pagespeed-url-hash=\"2102172892\" onload=\"pagespeed.CriticalImages.checkImageForCriticality(this);\">\\n</div>\\n<div class=\"comment-person\">\\n<h2>Bradley Erickson</h2>\\n<span>UI/UX Designer</span>\\n</div>\\n</div>\\n<p>Consectetur adipisicing elit, seddosdoe eiusmod tempor incididunt utore etstes dolore magna aliqua. Ut imminim restai veniam, quis nostrud.</p>\\n</div>\\n</div>\\n</div><div class=\"col-xl-4 slick-slide slick-current slick-active\" data-slick-index=\"0\" aria-hidden=\"false\" tabindex=\"0\" style=\"width: 400px;\">\\n<div class=\"blog-wrapper\">\\n<div class=\"blog-inner\">\\n<div class=\"blog-top\">\\n<div class=\"person-img\">\\n<img src=\"assets/img/gallery/blog1.png\" alt=\"\" data-pagespeed-url-hash=\"1807672971\" onload=\"pagespeed.CriticalImages.checkImageForCriticality(this);\">\\n</div>\\n<div class=\"comment-person\">\\n<h2>Bradley Erickson</h2>\\n<span>UI/UX Designer</span>\\n</div>\\n</div>\\n<p>Consectetur adipisicing elit, seddosdoe eiusmod tempor incididunt utore etstes dolore magna aliqua. Ut imminim restai veniam, quis nostrud.</p>\\n</div>\\n</div>\\n</div><div class=\"col-xl-4 slick-slide slick-active\" data-slick-index=\"1\" aria-hidden=\"false\" tabindex=\"0\" style=\"width: 400px;\">\\n<div class=\"blog-wrapper\">\\n<div class=\"blog-inner\">\\n<div class=\"blog-top\">\\n<div class=\"person-img\">\\n<img src=\"assets/img/gallery/blog2.png\" alt=\"\" data-pagespeed-url-hash=\"2102172892\" onload=\"pagespeed.CriticalImages.checkImageForCriticality(this);\">\\n</div>\\n<div class=\"comment-person\">\\n<h2>Bradley Erickson</h2>\\n<span>UI/UX Designer</span>\\n</div>\\n</div>\\n<p>Consectetur adipisicing elit, seddosdoe eiusmod tempor incididunt utore etstes dolore magna aliqua. Ut imminim restai veniam, quis nostrud.</p>\\n</div>\\n</div>\\n</div><div class=\"col-xl-4 slick-slide slick-active\" data-slick-index=\"2\" aria-hidden=\"false\" tabindex=\"0\" style=\"width: 400px;\">\\n<div class=\"blog-wrapper\">\\n<div class=\"blog-inner\">\\n<div class=\"blog-top\">\\n<div class=\"person-img\">\\n<img src=\"assets/img/gallery/blog3.png\" alt=\"\" data-pagespeed-url-hash=\"2396672813\" onload=\"pagespeed.CriticalImages.checkImageForCriticality(this);\">\\n</div>\\n<div class=\"comment-person\">\\n<h2>Bradley Erickson</h2>\\n<span>UI/UX Designer</span>\\n</div>\\n</div>\\n<p>Consectetur adipisicing elit, seddosdoe eiusmod tempor incididunt utore etstes dolore magna aliqua. Ut imminim restai veniam, quis nostrud.</p>\\n</div>\\n</div>\\n</div><div class=\"col-xl-4 slick-slide\" data-slick-index=\"3\" aria-hidden=\"true\" tabindex=\"-1\" style=\"width: 400px;\">\\n<div class=\"blog-wrapper\">\\n<div class=\"blog-inner\">\\n<div class=\"blog-top\">\\n<div class=\"person-img\">\\n<img src=\"assets/img/gallery/blog2.png\" alt=\"\" data-pagespeed-url-hash=\"2102172892\" onload=\"pagespeed.CriticalImages.checkImageForCriticality(this);\">\\n</div>\\n<div class=\"comment-person\">\\n<h2>Bradley Erickson</h2>\\n<span>UI/UX Designer</span>\\n</div>\\n</div>\\n<p>Consectetur adipisicing elit, seddosdoe eiusmod tempor incididunt utore etstes dolore magna aliqua. Ut imminim restai veniam, quis nostrud.</p>\\n</div>\\n</div>\\n</div><div class=\"col-xl-4 slick-slide slick-cloned\" data-slick-index=\"4\" aria-hidden=\"true\" tabindex=\"-1\" style=\"width: 400px;\">\\n<div class=\"blog-wrapper\">\\n<div class=\"blog-inner\">\\n<div class=\"blog-top\">\\n<div class=\"person-img\">\\n<img src=\"assets/img/gallery/blog1.png\" alt=\"\" data-pagespeed-url-hash=\"1807672971\" onload=\"pagespeed.CriticalImages.checkImageForCriticality(this);\">\\n</div>\\n<div class=\"comment-person\">\\n<h2>Bradley Erickson</h2>\\n<span>UI/UX Designer</span>\\n</div>\\n</div>\\n<p>Consectetur adipisicing elit, seddosdoe eiusmod tempor incididunt utore etstes dolore magna aliqua. Ut imminim restai veniam, quis nostrud.</p>\\n</div>\\n</div>\\n</div><div class=\"col-xl-4 slick-slide slick-cloned\" data-slick-index=\"5\" aria-hidden=\"true\" tabindex=\"-1\" style=\"width: 400px;\">\\n<div class=\"blog-wrapper\">\\n<div class=\"blog-inner\">\\n<div class=\"blog-top\">\\n<div class=\"person-img\">\\n<img src=\"assets/img/gallery/blog2.png\" alt=\"\" data-pagespeed-url-hash=\"2102172892\" onload=\"pagespeed.CriticalImages.checkImageForCriticality(this);\">\\n</div>\\n<div class=\"comment-person\">\\n<h2>Bradley Erickson</h2>\\n<span>UI/UX Designer</span>\\n</div>\\n</div>\\n<p>Consectetur adipisicing elit, seddosdoe eiusmod tempor incididunt utore etstes dolore magna aliqua. Ut imminim restai veniam, quis nostrud.</p>\\n</div>\\n</div>\\n</div><div class=\"col-xl-4 slick-slide slick-cloned\" data-slick-index=\"6\" aria-hidden=\"true\" tabindex=\"-1\" style=\"width: 400px;\">\\n<div class=\"blog-wrapper\">\\n<div class=\"blog-inner\">\\n<div class=\"blog-top\">\\n<div class=\"person-img\">\\n<img src=\"assets/img/gallery/blog3.png\" alt=\"\" data-pagespeed-url-hash=\"2396672813\" onload=\"pagespeed.CriticalImages.checkImageForCriticality(this);\">\\n</div>\\n<div class=\"comment-person\">\\n<h2>Bradley Erickson</h2>\\n<span>UI/UX Designer</span>\\n</div>\\n</div>\\n<p>Consectetur adipisicing elit, seddosdoe eiusmod tempor incididunt utore etstes dolore magna aliqua. Ut imminim restai veniam, quis nostrud.</p>\\n</div>\\n</div>\\n</div><div class=\"col-xl-4 slick-slide slick-cloned\" data-slick-index=\"7\" aria-hidden=\"true\" tabindex=\"-1\" style=\"width: 400px;\">\\n<div class=\"blog-wrapper\">\\n<div class=\"blog-inner\">\\n<div class=\"blog-top\">\\n<div class=\"person-img\">\\n<img src=\"assets/img/gallery/blog2.png\" alt=\"\" data-pagespeed-url-hash=\"2102172892\" onload=\"pagespeed.CriticalImages.checkImageForCriticality(this);\">\\n</div>\\n<div class=\"comment-person\">\\n<h2>Bradley Erickson</h2>\\n<span>UI/UX Designer</span>\\n</div>\\n</div>\\n<p>Consectetur adipisicing elit, seddosdoe eiusmod tempor incididunt utore etstes dolore magna aliqua. Ut imminim restai veniam, quis nostrud.</p>\\n</div>\\n</div>\\n</div></div></div>\\n<!-- single-items -->\\n\\n<!-- single-items -->\\n\\n<!-- single-items -->\\n\\n<button type=\"button\" class=\"slick-next slick-arrow\" style=\"display: block;\"><i class=\"ti-angle-right\"></i></button></div>\\n</div>\\n</div>\\n</div>\\n<!-- End latest-blog-area -->\\n</section>\\n<!-- Brand Area Start -->\\n<div class=\"brand-area pb-bottom\">\\n<div class=\"container\">\\n<div class=\"brand-active brand-border pt-50 pb-40 slick-initialized slick-slider\">\\n<div class=\"slick-list draggable\"><div class=\"slick-track\" style=\"opacity: 1; width: 4102px; transform: translate3d(-2051px, 0px, 0px);\"><div class=\"single-brand slick-slide slick-cloned\" data-slick-index=\"-4\" aria-hidden=\"true\" tabindex=\"-1\" style=\"width: 293px;\">\\n<img src=\"assets/img/gallery/brand2.png\" alt=\"\" data-pagespeed-url-hash=\"2065942145\" onload=\"pagespeed.CriticalImages.checkImageForCriticality(this);\">\\n</div><div class=\"single-brand slick-slide slick-cloned\" data-slick-index=\"-3\" aria-hidden=\"true\" tabindex=\"-1\" style=\"width: 293px;\">\\n<img src=\"assets/img/gallery/brand3.png\" alt=\"\" data-pagespeed-url-hash=\"2360442066\" onload=\"pagespeed.CriticalImages.checkImageForCriticality(this);\">\\n</div><div class=\"single-brand slick-slide slick-cloned\" data-slick-index=\"-2\" aria-hidden=\"true\" tabindex=\"-1\" style=\"width: 293px;\">\\n<img src=\"assets/img/gallery/brand4.png\" alt=\"\" data-pagespeed-url-hash=\"2654941987\" onload=\"pagespeed.CriticalImages.checkImageForCriticality(this);\">\\n</div><div class=\"single-brand slick-slide slick-cloned\" data-slick-index=\"-1\" aria-hidden=\"true\" tabindex=\"-1\" style=\"width: 293px;\">\\n<img src=\"assets/img/gallery/brand2.png\" alt=\"\" data-pagespeed-url-hash=\"2065942145\" onload=\"pagespeed.CriticalImages.checkImageForCriticality(this);\">\\n</div><div class=\"single-brand slick-slide\" data-slick-index=\"0\" aria-hidden=\"true\" tabindex=\"-1\" style=\"width: 293px;\">\\n<img src=\"assets/img/gallery/brand1.png\" alt=\"\" data-pagespeed-url-hash=\"1771442224\" onload=\"pagespeed.CriticalImages.checkImageForCriticality(this);\">\\n</div><div class=\"single-brand slick-slide\" data-slick-index=\"1\" aria-hidden=\"true\" tabindex=\"-1\" style=\"width: 293px;\">\\n<img src=\"assets/img/gallery/brand2.png\" alt=\"\" data-pagespeed-url-hash=\"2065942145\" onload=\"pagespeed.CriticalImages.checkImageForCriticality(this);\">\\n</div><div class=\"single-brand slick-slide\" data-slick-index=\"2\" aria-hidden=\"true\" tabindex=\"-1\" style=\"width: 293px;\">\\n<img src=\"assets/img/gallery/brand3.png\" alt=\"\" data-pagespeed-url-hash=\"2360442066\" onload=\"pagespeed.CriticalImages.checkImageForCriticality(this);\">\\n</div><div class=\"single-brand slick-slide slick-current slick-active\" data-slick-index=\"3\" aria-hidden=\"false\" tabindex=\"0\" style=\"width: 293px;\">\\n<img src=\"assets/img/gallery/brand4.png\" alt=\"\" data-pagespeed-url-hash=\"2654941987\" onload=\"pagespeed.CriticalImages.checkImageForCriticality(this);\">\\n</div><div class=\"single-brand slick-slide slick-active\" data-slick-index=\"4\" aria-hidden=\"false\" tabindex=\"0\" style=\"width: 293px;\">\\n<img src=\"assets/img/gallery/brand2.png\" alt=\"\" data-pagespeed-url-hash=\"2065942145\" onload=\"pagespeed.CriticalImages.checkImageForCriticality(this);\">\\n</div><div class=\"single-brand slick-slide slick-cloned slick-active\" data-slick-index=\"5\" aria-hidden=\"false\" tabindex=\"-1\" style=\"width: 293px;\">\\n<img src=\"assets/img/gallery/brand1.png\" alt=\"\" data-pagespeed-url-hash=\"1771442224\" onload=\"pagespeed.CriticalImages.checkImageForCriticality(this);\">\\n</div><div class=\"single-brand slick-slide slick-cloned slick-active\" data-slick-index=\"6\" aria-hidden=\"false\" tabindex=\"-1\" style=\"width: 293px;\">\\n<img src=\"assets/img/gallery/brand2.png\" alt=\"\" data-pagespeed-url-hash=\"2065942145\" onload=\"pagespeed.CriticalImages.checkImageForCriticality(this);\">\\n</div><div class=\"single-brand slick-slide slick-cloned\" data-slick-index=\"7\" aria-hidden=\"true\" tabindex=\"-1\" style=\"width: 293px;\">\\n<img src=\"assets/img/gallery/brand3.png\" alt=\"\" data-pagespeed-url-hash=\"2360442066\" onload=\"pagespeed.CriticalImages.checkImageForCriticality(this);\">\\n</div><div class=\"single-brand slick-slide slick-cloned\" data-slick-index=\"8\" aria-hidden=\"true\" tabindex=\"-1\" style=\"width: 293px;\">\\n<img src=\"assets/img/gallery/brand4.png\" alt=\"\" data-pagespeed-url-hash=\"2654941987\" onload=\"pagespeed.CriticalImages.checkImageForCriticality(this);\">\\n</div><div class=\"single-brand slick-slide slick-cloned\" data-slick-index=\"9\" aria-hidden=\"true\" tabindex=\"-1\" style=\"width: 293px;\">\\n<img src=\"assets/img/gallery/brand2.png\" alt=\"\" data-pagespeed-url-hash=\"2065942145\" onload=\"pagespeed.CriticalImages.checkImageForCriticality(this);\">\\n</div></div></div>\\n\\n\\n\\n\\n</div>\\n</div>\\n</div>\\n<!-- Brand Area End -->\\n<!-- Contact Info Start -->\\n<section class=\"contact-info-area w-padding2\" data-background=\"assets/img/gallery/section_bg04.jpg\" style=\"background-image: url(&quot;assets/img/gallery/section_bg04.jpg&quot;);\">\\n<div class=\"container\">\\n<div class=\"row justify-content-between\">\\n<div class=\"col-xl-5 col-lg-7\">\\n<div class=\"contact-caption mb-50\">\\n<h3>If Not Now, When? Let’s Work Together!</h3>\\n<p>Consectetur adipiscing elit, sed do eiusmod tempor ididunt ut labore et dolore magna aliqua. Quis ipsum suspendisces gravida. Risus commodo viverra.</p>\\n<img src=\"assets/img/gallery/sin.png\" alt=\"\" data-pagespeed-url-hash=\"564202676\" onload=\"pagespeed.CriticalImages.checkImageForCriticality(this);\">\\n</div>\\n</div>\\n<div class=\"col-xl-5 col-lg-5\">\\n<form action=\"#\" class=\"contact-wrapper\">\\n<input type=\"text\" name=\"name\" placeholder=\"Full Name\">\\n<input type=\"email\" name=\"email\" placeholder=\"Email Address\">\\n<textarea name=\"message\" id=\"message\" placeholder=\"Your Message\"></textarea>\\n<button class=\"submit-btn2\" type=\"submit\">Send Message</button>\\n</form>\\n</div>\\n</div>\\n</div>\\n</section>\\n<!-- Contact Info End -->\\n</main>\\n<footer>\\n<!-- Footer Start-->\\n<div class=\"footer-area\">\\n<div class=\"container\">\\n<div class=\"footer-top footer-padding\">\\n<div class=\"row justify-content-center\">\\n<div class=\"col-lg-6\">\\n<div class=\"footer-top-cap text-center\">\\n<img src=\"assets/img/logo/logo2_footer.png\" alt=\"\" data-pagespeed-url-hash=\"3314867680\" onload=\"pagespeed.CriticalImages.checkImageForCriticality(this);\">\\n<span><a href=\"#\">hireme@portfolio.com</a></span>\\n<p>221B Baker Street, Post office Box 353 </p>\\n<p>Park Road, USA - 215431</p>\\n</div>\\n</div>\\n</div>\\n</div>\\n<div class=\"footer-bottom\">\\n<div class=\"row d-flex justify-content-between align-items-center\">\\n<div class=\"col-xl-9 col-lg-8\">\\n<div class=\"footer-copy-right\">\\n<p><!-- Link back to Colorlib can\\'t be removed. Template is licensed under CC BY 3.0. -->\\nCopyright ©<script>document.write(new Date().getFullYear());</script>2020 All rights reserved | This template is made with <i class=\"fa fa-heart\" aria-hidden=\"true\"></i> by <a href=\"https://colorlib.com\" target=\"_blank\">Colorlib</a>\\n<!-- Link back to Colorlib can\\'t be removed. Template is licensed under CC BY 3.0. --></p>\\n</div>\\n</div>\\n<div class=\"col-xl-3 col-lg-4\">\\n<!-- Footer Social -->\\n<div class=\"footer-social f-right\">\\n<a>Stay Connected</a>\\n<a href=\"#\"><i class=\"fab fa-twitter\"></i></a>\\n<a href=\"#\"><i class=\"fab fa-facebook-f\"></i></a>\\n<a href=\"#\"><i class=\"fas fa-globe\"></i></a>\\n<a href=\"#\"><i class=\"fab fa-instagram\"></i></a>\\n</div>\\n</div>\\n</div>\\n</div>\\n</div>\\n</div>\\n<!-- Footer End-->\\n</footer>\\n<!-- Scroll Up -->\\n<div id=\"back-top\">\\n<a title=\"Go to Top\" href=\"#\"> <i class=\"fas fa-level-up-alt\"></i></a>\\n</div>\\n<!-- JS here -->\\n<!-- All JS Custom Plugins Link Here here -->\\n<script src=\"./assets/js/vendor/modernizr-3.5.0.min.js\"></script>\\n<!-- Jquery, Popper, Bootstrap -->\\n<script src=\"./assets/js/vendor/jquery-1.12.4.min.js\"></script>\\n<script src=\"./assets/js/popper.min.js\"></script>\\n<script src=\"./assets/js/bootstrap.min.js\"></script>\\n<!-- Jquery Mobile Menu -->\\n<script src=\"./assets/js/jquery.slicknav.min.js\"></script>\\n<!-- Jquery Slick , Owl-Carousel Plugins -->\\n<script src=\"./assets/js/owl.carousel.min.js\"></script>\\n<script src=\"./assets/js/slick.min.js\"></script>\\n<!-- One Page, Animated-HeadLin -->\\n<script src=\"./assets/js/wow.min.js\"></script>\\n<script src=\"./assets/js/animated.headline.js\"></script>\\n<script src=\"./assets/js/jquery.magnific-popup.js\"></script>\\n<!-- Nice-select, sticky -->\\n<script src=\"./assets/js/jquery.nice-select.min.js\"></script>\\n<script src=\"./assets/js/jquery.sticky.js\"></script>\\n<!-- contact js -->\\n<script src=\"./assets/js/contact.js\"></script>\\n<script src=\"./assets/js/jquery.form.js\"></script>\\n<script src=\"./assets/js/jquery.validate.min.js\"></script>\\n<script src=\"./assets/js/mail-script.js\"></script>\\n<script src=\"./assets/js/jquery.ajaxchimp.min.js\"></script>\\n<!-- Jquery Plugins, main Jquery -->\\n<script src=\"./assets/js/plugins.js\"></script>\\n<script src=\"./assets/js/main.js\"></script>\\n<!-- Global site tag (gtag.js) - Google Analytics -->\\n<script async=\"\" src=\"https://www.googletagmanager.com/gtag/js?id=UA-23581568-13\"></script>\\n<script>window.dataLayer=window.dataLayer||[];function gtag(){dataLayer.push(arguments);}gtag(\\'js\\',new Date());gtag(\\'config\\',\\'UA-23581568-13\\');</script>\\n\\n</body></html>'"
      ]
     },
     "execution_count": 12,
     "metadata": {},
     "output_type": "execute_result"
    }
   ],
   "source": [
    "data"
   ]
  },
  {
   "cell_type": "code",
   "execution_count": null,
   "metadata": {},
   "outputs": [],
   "source": []
  }
 ],
 "metadata": {
  "kernelspec": {
   "display_name": "Python 3",
   "language": "python",
   "name": "python3"
  },
  "language_info": {
   "codemirror_mode": {
    "name": "ipython",
    "version": 3
   },
   "file_extension": ".py",
   "mimetype": "text/x-python",
   "name": "python",
   "nbconvert_exporter": "python",
   "pygments_lexer": "ipython3",
   "version": "3.7.3"
  }
 },
 "nbformat": 4,
 "nbformat_minor": 2
}
