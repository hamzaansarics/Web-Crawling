{
 "cells": [
  {
   "cell_type": "code",
   "execution_count": 42,
   "metadata": {},
   "outputs": [],
   "source": [
    "import numpy as np\n",
    "import pandas as pd\n",
    "from selenium import webdriver\n",
    "from bs4 import BeautifulSoup\n",
    "from selenium.webdriver.chrome.options import Options"
   ]
  },
  {
   "cell_type": "code",
   "execution_count": 43,
   "metadata": {},
   "outputs": [],
   "source": [
    "\n",
    "chrome_options = Options()\n",
    "chrome_options.add_argument(\"--headless\")\n",
    "chrome_options.add_argument(\"--window-size=1920x1080\")\n",
    "\n",
    "chrome_driver = \"I:\\Web Scraping\\chromedriver.exe\""
   ]
  },
  {
   "cell_type": "code",
   "execution_count": 44,
   "metadata": {},
   "outputs": [
    {
     "name": "stderr",
     "output_type": "stream",
     "text": [
      "C:\\Users\\Programmer\\Anaconda3\\lib\\site-packages\\ipykernel_launcher.py:1: DeprecationWarning: use options instead of chrome_options\n",
      "  \"\"\"Entry point for launching an IPython kernel.\n"
     ]
    }
   ],
   "source": [
    "driver = webdriver.Chrome(executable_path=chrome_driver,chrome_options=chrome_options)"
   ]
  },
  {
   "cell_type": "code",
   "execution_count": 54,
   "metadata": {},
   "outputs": [
    {
     "name": "stdout",
     "output_type": "stream",
     "text": [
      "1\n",
      "2\n",
      "3\n",
      "4\n",
      "5\n",
      "6\n",
      "7\n",
      "8\n",
      "9\n",
      "10\n",
      "11\n",
      "12\n",
      "13\n",
      "14\n",
      "15\n",
      "16\n",
      "17\n",
      "18\n",
      "19\n",
      "20\n",
      "21\n",
      "22\n",
      "23\n",
      "24\n",
      "25\n",
      "26\n",
      "27\n",
      "28\n",
      "29\n",
      "30\n",
      "31\n",
      "32\n",
      "33\n",
      "34\n",
      "35\n",
      "36\n",
      "37\n",
      "38\n",
      "39\n",
      "40\n"
     ]
    }
   ],
   "source": [
    "# Wired Mix Rating Ali Baba they also include headphone+headset\n",
    "# driver=webdriver.Chrome()\n",
    "pages=[str(x) for x in range(1,300)]\n",
    "names,prices,rating,links,total=[],[],[],[],[]\n",
    "p_c=0\n",
    "for p in pages:\n",
    "    p_c+=1\n",
    "    print(p_c)\n",
    "    api=f\"https://www.alibaba.com/products/earphones_wired.html?IndexArea=product_en&page={p}&viewtype=G&sortType=RESRAT\"\n",
    "    driver.get(api)\n",
    "    html=driver.execute_script('return document.documentElement.outerHTML')\n",
    "    data=BeautifulSoup(html,'html.parser')\n",
    "    for value in data.findAll('div',{'class':'app-organic-search__content-main'}):\n",
    "        for val in value.findAll('div',{'class':'organic-offer-wrapper organic-gallery-offer-inner m-gallery-product-item-v2 img-switcher-parent'}):\n",
    "            def name_scraper():\n",
    "                name_temp=''\n",
    "                for nm in val.findAll('p',{'class':'elements-title-normal__content medium'}):\n",
    "                    name_temp+=nm.text\n",
    "                return name_temp\n",
    "            names.append(name_scraper())\n",
    "        for val in value.findAll('div',{'class':'organic-offer-wrapper organic-gallery-offer-inner m-gallery-product-item-v2 img-switcher-parent'}):         \n",
    "            def lnks_scraper():\n",
    "                lnsk_temp=''\n",
    "                for lnks in val.findAll('a',{'class':'organic-gallery-offer__img-section'}):\n",
    "                    lnsk_temp+=lnks.get('href')\n",
    "                return lnsk_temp\n",
    "            links.append(lnks_scraper())\n",
    "        for main in value.findAll('div',{'class':'organic-gallery-offer-section__price'}):\n",
    "            def pr_scraper():\n",
    "                temp='Null'\n",
    "                for pr in main.findAll('span',{'class':'elements-offer-price-normal__price'}):\n",
    "                    temp=pr.text\n",
    "                return temp\n",
    "            prices.append(pr_scraper())\n",
    "        for rat in value.findAll('div',{'class':'organic-gallery-offer-section__reviews'}):\n",
    "            def scrap():  \n",
    "                func_val='Null'\n",
    "                for rt in rat.findAll('span',{'class':'seb-supplier-review__score'}):\n",
    "                    func_val=rt.text\n",
    "                return func_val\n",
    "            rating.append(scrap())\n",
    "        for ttl in value.findAll('div',{'class':'organic-gallery-offer-section__reviews'}):\n",
    "            def scrap():  \n",
    "                func_val='Null'\n",
    "                for tt in ttl.findAll('span',{'class':'seb-supplier-review__review-count'}):\n",
    "                    func_val=tt.text\n",
    "                return func_val\n",
    "            total.append(scrap())\n",
    " "
   ]
  },
  {
   "cell_type": "code",
   "execution_count": 55,
   "metadata": {},
   "outputs": [
    {
     "name": "stdout",
     "output_type": "stream",
     "text": [
      "1463\n",
      "1463\n",
      "1463\n",
      "1463\n",
      "1463\n"
     ]
    }
   ],
   "source": [
    "print(len(names))\n",
    "print(len(prices))\n",
    "print(len(rating[0:len(names)]))\n",
    "print(len(total[0:len(names)]))\n",
    "print(len(links))"
   ]
  },
  {
   "cell_type": "code",
   "execution_count": null,
   "metadata": {},
   "outputs": [],
   "source": []
  },
  {
   "cell_type": "code",
   "execution_count": null,
   "metadata": {},
   "outputs": [],
   "source": []
  },
  {
   "cell_type": "code",
   "execution_count": 145,
   "metadata": {},
   "outputs": [],
   "source": [
    "# df=pd.read_csv(r'E:\\Alibaba\\Toys\\Soft Toys\\soft_toys.csv')"
   ]
  },
  {
   "cell_type": "code",
   "execution_count": 10,
   "metadata": {},
   "outputs": [
    {
     "name": "stdout",
     "output_type": "stream",
     "text": [
      "1\n"
     ]
    }
   ],
   "source": [
    "# Wired Mix Rating Ali Baba they include Boots\n",
    "driver=webdriver.Chrome()\n",
    "pages=[str(x) for x in range(1,2)]\n",
    "names,prices,rating,links,total=[],[],[],[],[]\n",
    "p_c=0\n",
    "for p in pages:\n",
    "    p_c+=1\n",
    "    print(p_c)\n",
    "    api=f\"https://www.alibaba.com/products/leather_boots/CID100001617.html?spm=a2700.galleryofferlist.0.0.c96e43c5uFJOBA&IndexArea=product_en&viewtype=G&pid=PID605_0000_0101\"\n",
    "    driver.get(api)\n",
    "    html=driver.execute_script('return document.documentElement.outerHTML')\n",
    "    data=BeautifulSoup(html,'html.parser')\n",
    "    for value in data.findAll('div',{'class':'l-grid l-grid-extra'}):\n",
    "        for val in value.findAll('div',{'class':'item-main'}):\n",
    "            for vl in val.findAll('h2',{'class':'title'}):\n",
    "                for v in vl.findAll('a'):\n",
    "                    names.append(v.get('title'))    \n",
    "        for val in value.findAll('div',{'class':'item-main'}):\n",
    "            def pr_scraper():\n",
    "                temp='Null'\n",
    "                for pr in value.findAll('div',{'class':'pmo'}):\n",
    "                    for p in pr.findAll('div',{'class':'price'}):\n",
    "                        temp=p.text\n",
    "                return temp\n",
    "            prices.append(pr_scraper())\n",
    "        for value in data.findAll('div',{'class':'l-grid l-grid-extra'}):\n",
    "            for val in value.findAll('div',{'class':'item-main'}):\n",
    "                for vl in val.findAll('h2',{'class':'title'}):\n",
    "                    for v in vl.findAll('a'):\n",
    "                        links.append(v.get('href'))    \n",
    "        for rat in value.findAll('div',{'class':'organic-gallery-offer-section__reviews'}):\n",
    "                def scrap():  \n",
    "                    func_val='Null'\n",
    "                    for rt in rat.findAll('span',{'class':'seb-supplier-review__score'}):\n",
    "                        func_val=rt.text\n",
    "                    return func_val\n",
    "                rating.append(scrap())\n",
    "        for ttol in value.findAll('div',{'class':'organic-gallery-offer-section__reviews'}):\n",
    "                def scrap():  \n",
    "                    func_val='Null'\n",
    "                    for tt in ttol.findAll('span',{'class':'li-reviews-score__review-count'}):\n",
    "                        func_val=tt.text\n",
    "                    return func_val\n",
    "                total.append(scrap())\n",
    "    boots=pd.DataFrame({'Names':names,'Prices':prices,'Links':links,'Rating':rating,'Total':total})\n",
    "    boots.to_csv(r'E:\\boots.csv')"
   ]
  },
  {
   "cell_type": "code",
   "execution_count": 11,
   "metadata": {},
   "outputs": [
    {
     "data": {
      "text/plain": [
       "0"
      ]
     },
     "execution_count": 11,
     "metadata": {},
     "output_type": "execute_result"
    }
   ],
   "source": [
    "len(names)"
   ]
  },
  {
   "cell_type": "code",
   "execution_count": 12,
   "metadata": {},
   "outputs": [
    {
     "data": {
      "text/plain": [
       "0"
      ]
     },
     "execution_count": 12,
     "metadata": {},
     "output_type": "execute_result"
    }
   ],
   "source": [
    "len(prices)"
   ]
  },
  {
   "cell_type": "code",
   "execution_count": 13,
   "metadata": {},
   "outputs": [
    {
     "data": {
      "text/plain": [
       "0"
      ]
     },
     "execution_count": 13,
     "metadata": {},
     "output_type": "execute_result"
    }
   ],
   "source": [
    "len(links)"
   ]
  },
  {
   "cell_type": "code",
   "execution_count": 14,
   "metadata": {},
   "outputs": [
    {
     "data": {
      "text/plain": [
       "0"
      ]
     },
     "execution_count": 14,
     "metadata": {},
     "output_type": "execute_result"
    }
   ],
   "source": [
    "len(rating)"
   ]
  },
  {
   "cell_type": "code",
   "execution_count": 15,
   "metadata": {},
   "outputs": [
    {
     "data": {
      "text/plain": [
       "0"
      ]
     },
     "execution_count": 15,
     "metadata": {},
     "output_type": "execute_result"
    }
   ],
   "source": [
    "len(total)"
   ]
  },
  {
   "cell_type": "code",
   "execution_count": null,
   "metadata": {},
   "outputs": [],
   "source": []
  },
  {
   "cell_type": "code",
   "execution_count": null,
   "metadata": {},
   "outputs": [],
   "source": []
  }
 ],
 "metadata": {
  "kernelspec": {
   "display_name": "Python 3",
   "language": "python",
   "name": "python3"
  },
  "language_info": {
   "codemirror_mode": {
    "name": "ipython",
    "version": 3
   },
   "file_extension": ".py",
   "mimetype": "text/x-python",
   "name": "python",
   "nbconvert_exporter": "python",
   "pygments_lexer": "ipython3",
   "version": "3.7.3"
  }
 },
 "nbformat": 4,
 "nbformat_minor": 2
}
